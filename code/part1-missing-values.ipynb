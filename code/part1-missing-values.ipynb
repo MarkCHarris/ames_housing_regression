{
 "cells": [
  {
   "cell_type": "markdown",
   "id": "a6eed818-ff3e-43a9-8dc4-9d8a89106e6f",
   "metadata": {},
   "source": [
    "# Code Notebook 1: Introduction and Missing Values #"
   ]
  },
  {
   "cell_type": "markdown",
   "id": "7c1deb10-d174-49ab-a68b-7b7aa1a6761f",
   "metadata": {},
   "source": [
    "This notebook introduces the purpose of the project and includes initial data cleaning.  This involves indentifying all types of missing values in numeric features and ensuring that all features have appropriate data types.  Other possible problems, such as outliers, are addressed in later notebooks.  It is also more convenient to handle missing values in categorical data later, while numerically encoding such data."
   ]
  },
  {
   "cell_type": "markdown",
   "id": "74ef199d-ec1a-4ee3-9d79-327c22cd901b",
   "metadata": {},
   "source": [
    "## I. Problem Statement ##"
   ]
  },
  {
   "cell_type": "markdown",
   "id": "d416ff65-4bf1-4610-b42e-50bd012cad7d",
   "metadata": {},
   "source": [
    "The goal of this project is to use the Ames Housing Dataset, found [here](http://jse.amstat.org/v19n3/decock/DataDocumentation.txt), to assist stakeholders with an interest in increasing home value.  Linear regression will be used to design a model that can accept important features from the data set and make predictions of sale price based on those features.  In addition to providing a method for estimating home value given specific features, this approach will provide measures of importance for included features.  This will allow me to provide interested parties with information about the most important types of features to focus on if they wish to increase the value of a home.\n",
    "\n",
    "To test model effectiveness, I will compare it with the naive model of estimating all home values to be equal to the mean of all sale prices in the data set.  We should expect significant improvement over this model.  To measure this, I will use the R2 score, which will tell me how much of the price variability my model is able to account for relative to the baseline model.  I will also use error, which gives a direct comparison of average error in estimates made with the naive model vs. my regression model.  Root mean square tends to punish large outiers severely, making it ideal for a situation in which it's worse to be wrong by a lot than to be wrong by a little.  Root mean square will provide a measure of prediction accuracy expressed in dollars, ideal for making comparisons between the baseline model and regression model."
   ]
  },
  {
   "cell_type": "code",
   "execution_count": 1,
   "id": "0cb2b911-23f7-43ce-8017-95dab6f23fd0",
   "metadata": {
    "scrolled": true,
    "tags": []
   },
   "outputs": [],
   "source": [
    "import numpy as np\n",
    "import pandas as pd\n",
    "\n",
    "import cleantools as ct"
   ]
  },
  {
   "cell_type": "code",
   "execution_count": 2,
   "id": "54ad5161-a3f6-45b5-8c06-16e8a6ea1643",
   "metadata": {},
   "outputs": [],
   "source": [
    "# Importing all data.  To be safe, I'm not having Pandas automatically identify NaN values.  I'll find and interpret them myself.\n",
    "train = pd.read_csv('../datasets/train.csv', keep_default_na=False)\n",
    "test = pd.read_csv('../datasets/test.csv', keep_default_na=False)"
   ]
  },
  {
   "cell_type": "markdown",
   "id": "61cb4541-594a-45b1-8620-74e6971fab23",
   "metadata": {},
   "source": [
    "## II. Examining NaN/Missing Values ##"
   ]
  },
  {
   "cell_type": "code",
   "execution_count": 3,
   "id": "79753179-0cb2-45a4-bbe6-29ff650fac50",
   "metadata": {},
   "outputs": [],
   "source": [
    "# Using custom function to convert all column names to snake case.\n",
    "train = ct.df_cols_to_snake_case(train)\n",
    "test = ct.df_cols_to_snake_case(test)"
   ]
  },
  {
   "cell_type": "code",
   "execution_count": 4,
   "id": "57443eaa-38cc-4665-8d2c-e6da6472ae65",
   "metadata": {},
   "outputs": [],
   "source": [
    "# Using custom function to store data type and number of NaNs in each column in a DataFrame.\n",
    "train_info = ct.info_frame(train)"
   ]
  },
  {
   "cell_type": "code",
   "execution_count": 5,
   "id": "7ba01c4d-084f-4783-81ce-f16c0b8a5305",
   "metadata": {},
   "outputs": [
    {
     "data": {
      "text/plain": [
       "0    81\n",
       "Name: num_nans, dtype: int64"
      ]
     },
     "execution_count": 5,
     "metadata": {},
     "output_type": "execute_result"
    }
   ],
   "source": [
    "# As expected, there are no NaN values in my data.\n",
    "train_info['num_nans'].value_counts()"
   ]
  },
  {
   "cell_type": "code",
   "execution_count": 6,
   "id": "c314374a-c635-4db1-b672-72ba66e7f03c",
   "metadata": {},
   "outputs": [
    {
     "data": {
      "text/plain": [
       "object    53\n",
       "int64     28\n",
       "Name: type, dtype: int64"
      ]
     },
     "execution_count": 6,
     "metadata": {},
     "output_type": "execute_result"
    }
   ],
   "source": [
    "# There are only two data types: int and object.\n",
    "train_info['type'].value_counts()"
   ]
  },
  {
   "cell_type": "code",
   "execution_count": 7,
   "id": "83253a5e-2a01-446a-a9c5-b0ecbf7769e0",
   "metadata": {},
   "outputs": [
    {
     "name": "stdout",
     "output_type": "stream",
     "text": [
      "28\n"
     ]
    }
   ],
   "source": [
    "# This variable holds the names of all the columns of type int, of which there are 28.\n",
    "int_cols = [col for col in train.columns if train[col].dtype != object]\n",
    "print(len(int_cols))"
   ]
  },
  {
   "cell_type": "code",
   "execution_count": 8,
   "id": "5c3be3e9-aa9d-4aaa-b0ff-16eb59ad124e",
   "metadata": {},
   "outputs": [
    {
     "name": "stdout",
     "output_type": "stream",
     "text": [
      "53\n"
     ]
    }
   ],
   "source": [
    "# This variable holds the names of all the columns of type object, of which there are 53.\n",
    "object_cols = [col for col in train.columns if train[col].dtype == object]\n",
    "print(len(object_cols))"
   ]
  },
  {
   "cell_type": "code",
   "execution_count": 9,
   "id": "c86c2e45-008d-4e3b-8aa1-00105e18f9b7",
   "metadata": {},
   "outputs": [
    {
     "data": {
      "text/html": [
       "<div>\n",
       "<style scoped>\n",
       "    .dataframe tbody tr th:only-of-type {\n",
       "        vertical-align: middle;\n",
       "    }\n",
       "\n",
       "    .dataframe tbody tr th {\n",
       "        vertical-align: top;\n",
       "    }\n",
       "\n",
       "    .dataframe thead th {\n",
       "        text-align: right;\n",
       "    }\n",
       "</style>\n",
       "<table border=\"1\" class=\"dataframe\">\n",
       "  <thead>\n",
       "    <tr style=\"text-align: right;\">\n",
       "      <th></th>\n",
       "      <th>ms_zoning</th>\n",
       "      <th>lot_frontage</th>\n",
       "      <th>street</th>\n",
       "      <th>alley</th>\n",
       "      <th>lot_shape</th>\n",
       "      <th>land_contour</th>\n",
       "      <th>utilities</th>\n",
       "      <th>lot_config</th>\n",
       "      <th>land_slope</th>\n",
       "      <th>neighborhood</th>\n",
       "      <th>condition_1</th>\n",
       "      <th>condition_2</th>\n",
       "      <th>bldg_type</th>\n",
       "      <th>house_style</th>\n",
       "      <th>roof_style</th>\n",
       "    </tr>\n",
       "  </thead>\n",
       "  <tbody>\n",
       "    <tr>\n",
       "      <th>0</th>\n",
       "      <td>RL</td>\n",
       "      <td></td>\n",
       "      <td>Pave</td>\n",
       "      <td>NA</td>\n",
       "      <td>IR1</td>\n",
       "      <td>Lvl</td>\n",
       "      <td>AllPub</td>\n",
       "      <td>CulDSac</td>\n",
       "      <td>Gtl</td>\n",
       "      <td>Sawyer</td>\n",
       "      <td>RRAe</td>\n",
       "      <td>Norm</td>\n",
       "      <td>1Fam</td>\n",
       "      <td>2Story</td>\n",
       "      <td>Gable</td>\n",
       "    </tr>\n",
       "    <tr>\n",
       "      <th>1</th>\n",
       "      <td>RL</td>\n",
       "      <td>43</td>\n",
       "      <td>Pave</td>\n",
       "      <td>NA</td>\n",
       "      <td>IR1</td>\n",
       "      <td>Lvl</td>\n",
       "      <td>AllPub</td>\n",
       "      <td>CulDSac</td>\n",
       "      <td>Gtl</td>\n",
       "      <td>SawyerW</td>\n",
       "      <td>Norm</td>\n",
       "      <td>Norm</td>\n",
       "      <td>1Fam</td>\n",
       "      <td>2Story</td>\n",
       "      <td>Gable</td>\n",
       "    </tr>\n",
       "    <tr>\n",
       "      <th>2</th>\n",
       "      <td>RL</td>\n",
       "      <td>68</td>\n",
       "      <td>Pave</td>\n",
       "      <td>NA</td>\n",
       "      <td>Reg</td>\n",
       "      <td>Lvl</td>\n",
       "      <td>AllPub</td>\n",
       "      <td>Inside</td>\n",
       "      <td>Gtl</td>\n",
       "      <td>NAmes</td>\n",
       "      <td>Norm</td>\n",
       "      <td>Norm</td>\n",
       "      <td>1Fam</td>\n",
       "      <td>1Story</td>\n",
       "      <td>Gable</td>\n",
       "    </tr>\n",
       "  </tbody>\n",
       "</table>\n",
       "</div>"
      ],
      "text/plain": [
       "  ms_zoning lot_frontage street alley lot_shape land_contour utilities  \\\n",
       "0        RL                Pave    NA       IR1          Lvl    AllPub   \n",
       "1        RL           43   Pave    NA       IR1          Lvl    AllPub   \n",
       "2        RL           68   Pave    NA       Reg          Lvl    AllPub   \n",
       "\n",
       "  lot_config land_slope neighborhood condition_1 condition_2 bldg_type  \\\n",
       "0    CulDSac        Gtl       Sawyer        RRAe        Norm      1Fam   \n",
       "1    CulDSac        Gtl      SawyerW        Norm        Norm      1Fam   \n",
       "2     Inside        Gtl        NAmes        Norm        Norm      1Fam   \n",
       "\n",
       "  house_style roof_style  \n",
       "0      2Story      Gable  \n",
       "1      2Story      Gable  \n",
       "2      1Story      Gable  "
      ]
     },
     "execution_count": 9,
     "metadata": {},
     "output_type": "execute_result"
    }
   ],
   "source": [
    "train[object_cols[:15]].head(3)"
   ]
  },
  {
   "cell_type": "code",
   "execution_count": 10,
   "id": "98f2f83f-e287-497d-83f1-3daa35ed1df8",
   "metadata": {},
   "outputs": [
    {
     "data": {
      "text/html": [
       "<div>\n",
       "<style scoped>\n",
       "    .dataframe tbody tr th:only-of-type {\n",
       "        vertical-align: middle;\n",
       "    }\n",
       "\n",
       "    .dataframe tbody tr th {\n",
       "        vertical-align: top;\n",
       "    }\n",
       "\n",
       "    .dataframe thead th {\n",
       "        text-align: right;\n",
       "    }\n",
       "</style>\n",
       "<table border=\"1\" class=\"dataframe\">\n",
       "  <thead>\n",
       "    <tr style=\"text-align: right;\">\n",
       "      <th></th>\n",
       "      <th>roof_matl</th>\n",
       "      <th>exterior_1st</th>\n",
       "      <th>exterior_2nd</th>\n",
       "      <th>mas_vnr_type</th>\n",
       "      <th>mas_vnr_area</th>\n",
       "      <th>exter_qual</th>\n",
       "      <th>exter_cond</th>\n",
       "      <th>foundation</th>\n",
       "      <th>bsmt_qual</th>\n",
       "      <th>bsmt_cond</th>\n",
       "      <th>bsmt_exposure</th>\n",
       "      <th>bsmtfin_type_1</th>\n",
       "      <th>bsmtfin_sf_1</th>\n",
       "    </tr>\n",
       "  </thead>\n",
       "  <tbody>\n",
       "    <tr>\n",
       "      <th>0</th>\n",
       "      <td>CompShg</td>\n",
       "      <td>HdBoard</td>\n",
       "      <td>Plywood</td>\n",
       "      <td>BrkFace</td>\n",
       "      <td>289</td>\n",
       "      <td>Gd</td>\n",
       "      <td>TA</td>\n",
       "      <td>CBlock</td>\n",
       "      <td>TA</td>\n",
       "      <td>TA</td>\n",
       "      <td>No</td>\n",
       "      <td>GLQ</td>\n",
       "      <td>533</td>\n",
       "    </tr>\n",
       "    <tr>\n",
       "      <th>1</th>\n",
       "      <td>CompShg</td>\n",
       "      <td>VinylSd</td>\n",
       "      <td>VinylSd</td>\n",
       "      <td>BrkFace</td>\n",
       "      <td>132</td>\n",
       "      <td>Gd</td>\n",
       "      <td>TA</td>\n",
       "      <td>PConc</td>\n",
       "      <td>Gd</td>\n",
       "      <td>TA</td>\n",
       "      <td>No</td>\n",
       "      <td>GLQ</td>\n",
       "      <td>637</td>\n",
       "    </tr>\n",
       "    <tr>\n",
       "      <th>2</th>\n",
       "      <td>CompShg</td>\n",
       "      <td>VinylSd</td>\n",
       "      <td>VinylSd</td>\n",
       "      <td>None</td>\n",
       "      <td>0</td>\n",
       "      <td>TA</td>\n",
       "      <td>Gd</td>\n",
       "      <td>CBlock</td>\n",
       "      <td>TA</td>\n",
       "      <td>TA</td>\n",
       "      <td>No</td>\n",
       "      <td>GLQ</td>\n",
       "      <td>731</td>\n",
       "    </tr>\n",
       "  </tbody>\n",
       "</table>\n",
       "</div>"
      ],
      "text/plain": [
       "  roof_matl exterior_1st exterior_2nd mas_vnr_type mas_vnr_area exter_qual  \\\n",
       "0   CompShg      HdBoard      Plywood      BrkFace          289         Gd   \n",
       "1   CompShg      VinylSd      VinylSd      BrkFace          132         Gd   \n",
       "2   CompShg      VinylSd      VinylSd         None            0         TA   \n",
       "\n",
       "  exter_cond foundation bsmt_qual bsmt_cond bsmt_exposure bsmtfin_type_1  \\\n",
       "0         TA     CBlock        TA        TA            No            GLQ   \n",
       "1         TA      PConc        Gd        TA            No            GLQ   \n",
       "2         Gd     CBlock        TA        TA            No            GLQ   \n",
       "\n",
       "  bsmtfin_sf_1  \n",
       "0          533  \n",
       "1          637  \n",
       "2          731  "
      ]
     },
     "execution_count": 10,
     "metadata": {},
     "output_type": "execute_result"
    }
   ],
   "source": [
    "train[object_cols[15:28]].head(3)"
   ]
  },
  {
   "cell_type": "code",
   "execution_count": 11,
   "id": "eb51b86f-1d4c-430b-91d3-f1c665cb68ee",
   "metadata": {},
   "outputs": [
    {
     "data": {
      "text/html": [
       "<div>\n",
       "<style scoped>\n",
       "    .dataframe tbody tr th:only-of-type {\n",
       "        vertical-align: middle;\n",
       "    }\n",
       "\n",
       "    .dataframe tbody tr th {\n",
       "        vertical-align: top;\n",
       "    }\n",
       "\n",
       "    .dataframe thead th {\n",
       "        text-align: right;\n",
       "    }\n",
       "</style>\n",
       "<table border=\"1\" class=\"dataframe\">\n",
       "  <thead>\n",
       "    <tr style=\"text-align: right;\">\n",
       "      <th></th>\n",
       "      <th>bsmtfin_type_2</th>\n",
       "      <th>bsmtfin_sf_2</th>\n",
       "      <th>bsmt_unf_sf</th>\n",
       "      <th>total_bsmt_sf</th>\n",
       "      <th>heating</th>\n",
       "      <th>heating_qc</th>\n",
       "      <th>central_air</th>\n",
       "      <th>electrical</th>\n",
       "      <th>bsmt_full_bath</th>\n",
       "      <th>bsmt_half_bath</th>\n",
       "      <th>kitchen_qual</th>\n",
       "      <th>functional</th>\n",
       "    </tr>\n",
       "  </thead>\n",
       "  <tbody>\n",
       "    <tr>\n",
       "      <th>0</th>\n",
       "      <td>Unf</td>\n",
       "      <td>0</td>\n",
       "      <td>192</td>\n",
       "      <td>725</td>\n",
       "      <td>GasA</td>\n",
       "      <td>Ex</td>\n",
       "      <td>Y</td>\n",
       "      <td>SBrkr</td>\n",
       "      <td>0</td>\n",
       "      <td>0</td>\n",
       "      <td>Gd</td>\n",
       "      <td>Typ</td>\n",
       "    </tr>\n",
       "    <tr>\n",
       "      <th>1</th>\n",
       "      <td>Unf</td>\n",
       "      <td>0</td>\n",
       "      <td>276</td>\n",
       "      <td>913</td>\n",
       "      <td>GasA</td>\n",
       "      <td>Ex</td>\n",
       "      <td>Y</td>\n",
       "      <td>SBrkr</td>\n",
       "      <td>1</td>\n",
       "      <td>0</td>\n",
       "      <td>Gd</td>\n",
       "      <td>Typ</td>\n",
       "    </tr>\n",
       "    <tr>\n",
       "      <th>2</th>\n",
       "      <td>Unf</td>\n",
       "      <td>0</td>\n",
       "      <td>326</td>\n",
       "      <td>1057</td>\n",
       "      <td>GasA</td>\n",
       "      <td>TA</td>\n",
       "      <td>Y</td>\n",
       "      <td>SBrkr</td>\n",
       "      <td>1</td>\n",
       "      <td>0</td>\n",
       "      <td>Gd</td>\n",
       "      <td>Typ</td>\n",
       "    </tr>\n",
       "  </tbody>\n",
       "</table>\n",
       "</div>"
      ],
      "text/plain": [
       "  bsmtfin_type_2 bsmtfin_sf_2 bsmt_unf_sf total_bsmt_sf heating heating_qc  \\\n",
       "0            Unf            0         192           725    GasA         Ex   \n",
       "1            Unf            0         276           913    GasA         Ex   \n",
       "2            Unf            0         326          1057    GasA         TA   \n",
       "\n",
       "  central_air electrical bsmt_full_bath bsmt_half_bath kitchen_qual functional  \n",
       "0           Y      SBrkr              0              0           Gd        Typ  \n",
       "1           Y      SBrkr              1              0           Gd        Typ  \n",
       "2           Y      SBrkr              1              0           Gd        Typ  "
      ]
     },
     "execution_count": 11,
     "metadata": {},
     "output_type": "execute_result"
    }
   ],
   "source": [
    "train[object_cols[28:40]].head(3)"
   ]
  },
  {
   "cell_type": "code",
   "execution_count": 12,
   "id": "ce7d85c9-23dd-4a11-9d02-a42e8722248b",
   "metadata": {},
   "outputs": [
    {
     "data": {
      "text/html": [
       "<div>\n",
       "<style scoped>\n",
       "    .dataframe tbody tr th:only-of-type {\n",
       "        vertical-align: middle;\n",
       "    }\n",
       "\n",
       "    .dataframe tbody tr th {\n",
       "        vertical-align: top;\n",
       "    }\n",
       "\n",
       "    .dataframe thead th {\n",
       "        text-align: right;\n",
       "    }\n",
       "</style>\n",
       "<table border=\"1\" class=\"dataframe\">\n",
       "  <thead>\n",
       "    <tr style=\"text-align: right;\">\n",
       "      <th></th>\n",
       "      <th>fireplace_qu</th>\n",
       "      <th>garage_type</th>\n",
       "      <th>garage_yr_blt</th>\n",
       "      <th>garage_finish</th>\n",
       "      <th>garage_cars</th>\n",
       "      <th>garage_area</th>\n",
       "      <th>garage_qual</th>\n",
       "      <th>garage_cond</th>\n",
       "      <th>paved_drive</th>\n",
       "      <th>pool_qc</th>\n",
       "      <th>fence</th>\n",
       "      <th>misc_feature</th>\n",
       "      <th>sale_type</th>\n",
       "    </tr>\n",
       "  </thead>\n",
       "  <tbody>\n",
       "    <tr>\n",
       "      <th>0</th>\n",
       "      <td>NA</td>\n",
       "      <td>Attchd</td>\n",
       "      <td>1976</td>\n",
       "      <td>RFn</td>\n",
       "      <td>2</td>\n",
       "      <td>475</td>\n",
       "      <td>TA</td>\n",
       "      <td>TA</td>\n",
       "      <td>Y</td>\n",
       "      <td>NA</td>\n",
       "      <td>NA</td>\n",
       "      <td>NA</td>\n",
       "      <td>WD</td>\n",
       "    </tr>\n",
       "    <tr>\n",
       "      <th>1</th>\n",
       "      <td>TA</td>\n",
       "      <td>Attchd</td>\n",
       "      <td>1997</td>\n",
       "      <td>RFn</td>\n",
       "      <td>2</td>\n",
       "      <td>559</td>\n",
       "      <td>TA</td>\n",
       "      <td>TA</td>\n",
       "      <td>Y</td>\n",
       "      <td>NA</td>\n",
       "      <td>NA</td>\n",
       "      <td>NA</td>\n",
       "      <td>WD</td>\n",
       "    </tr>\n",
       "    <tr>\n",
       "      <th>2</th>\n",
       "      <td>NA</td>\n",
       "      <td>Detchd</td>\n",
       "      <td>1953</td>\n",
       "      <td>Unf</td>\n",
       "      <td>1</td>\n",
       "      <td>246</td>\n",
       "      <td>TA</td>\n",
       "      <td>TA</td>\n",
       "      <td>Y</td>\n",
       "      <td>NA</td>\n",
       "      <td>NA</td>\n",
       "      <td>NA</td>\n",
       "      <td>WD</td>\n",
       "    </tr>\n",
       "  </tbody>\n",
       "</table>\n",
       "</div>"
      ],
      "text/plain": [
       "  fireplace_qu garage_type garage_yr_blt garage_finish garage_cars  \\\n",
       "0           NA      Attchd          1976           RFn           2   \n",
       "1           TA      Attchd          1997           RFn           2   \n",
       "2           NA      Detchd          1953           Unf           1   \n",
       "\n",
       "  garage_area garage_qual garage_cond paved_drive pool_qc fence misc_feature  \\\n",
       "0         475          TA          TA           Y      NA    NA           NA   \n",
       "1         559          TA          TA           Y      NA    NA           NA   \n",
       "2         246          TA          TA           Y      NA    NA           NA   \n",
       "\n",
       "  sale_type  \n",
       "0       WD   \n",
       "1       WD   \n",
       "2       WD   "
      ]
     },
     "execution_count": 12,
     "metadata": {},
     "output_type": "execute_result"
    }
   ],
   "source": [
    "train[object_cols[40:]].head(3)"
   ]
  },
  {
   "cell_type": "markdown",
   "id": "a451c4a3-841d-41d3-a474-13d8d96ae6dd",
   "metadata": {},
   "source": [
    "I have imported my data using the option not to automatically identify any NaN values.  This resulted in only int and object data types.  Above, I have displayed the first few rows of each column that has data type object.  We can see that some of these columns should be numeric, so let's see what's going on."
   ]
  },
  {
   "cell_type": "markdown",
   "id": "a8ab02c8-c2c6-4af1-8f6c-05e35dc4210e",
   "metadata": {},
   "source": [
    "Below, I am checking any columns with type object that look like they may actually be numeric data.  I'm doing this by identifying any data in those columns that can't be cast as numeric.  I then use .value_counts() to learn more about the number of such entries and whether 0 or something similar is also present.  The absence of 0 may mean that a missing value means 0."
   ]
  },
  {
   "cell_type": "code",
   "execution_count": 13,
   "id": "2ceef642-1ccd-495a-b9c6-cebdcf6d7735",
   "metadata": {},
   "outputs": [
    {
     "data": {
      "text/plain": [
       "['']"
      ]
     },
     "execution_count": 13,
     "metadata": {},
     "output_type": "execute_result"
    }
   ],
   "source": [
    "# Using my custom function to check columns with type object that might actually be numeric data.\n",
    "ct.find_non_numeric(train['lot_frontage'])"
   ]
  },
  {
   "cell_type": "code",
   "execution_count": 14,
   "id": "b3a10c13-8440-47a4-b54c-99c8b298f050",
   "metadata": {},
   "outputs": [
    {
     "data": {
      "text/plain": [
       "      330\n",
       "60    179\n",
       "70     96\n",
       "80     94\n",
       "50     90\n",
       "Name: lot_frontage, dtype: int64"
      ]
     },
     "execution_count": 14,
     "metadata": {},
     "output_type": "execute_result"
    }
   ],
   "source": [
    "train['lot_frontage'].value_counts().head()"
   ]
  },
  {
   "cell_type": "markdown",
   "id": "e8cf4d35-5d83-4de7-ba57-5cd9790e5929",
   "metadata": {},
   "source": [
    "All the non-numeric values in 'lot_frontage' are empty strings. 0 is not present."
   ]
  },
  {
   "cell_type": "code",
   "execution_count": 15,
   "id": "1ad59411-6ed5-4b1f-9fb0-fb6b2c88b1ce",
   "metadata": {},
   "outputs": [
    {
     "data": {
      "text/plain": [
       "['NA', 'Pave', 'Grvl']"
      ]
     },
     "execution_count": 15,
     "metadata": {},
     "output_type": "execute_result"
    }
   ],
   "source": [
    "ct.find_non_numeric(train['alley'])"
   ]
  },
  {
   "cell_type": "code",
   "execution_count": 16,
   "id": "7c2d2f1d-c09d-46bd-838c-043999c56182",
   "metadata": {},
   "outputs": [
    {
     "data": {
      "text/plain": [
       "NA      1911\n",
       "Grvl      85\n",
       "Pave      55\n",
       "Name: alley, dtype: int64"
      ]
     },
     "execution_count": 16,
     "metadata": {},
     "output_type": "execute_result"
    }
   ],
   "source": [
    "train['alley'].value_counts()"
   ]
  },
  {
   "cell_type": "markdown",
   "id": "3a386ae2-e066-4331-ac08-e7e3bba771f9",
   "metadata": {},
   "source": [
    "'alley' is categorical, and those NA are numerous enough to mean something (probably that there is no alley.)"
   ]
  },
  {
   "cell_type": "code",
   "execution_count": 17,
   "id": "1e7c47b6-2ab6-4bdd-be6e-b18bbfaf51e5",
   "metadata": {},
   "outputs": [
    {
     "data": {
      "text/plain": [
       "['']"
      ]
     },
     "execution_count": 17,
     "metadata": {},
     "output_type": "execute_result"
    }
   ],
   "source": [
    "ct.find_non_numeric(train['mas_vnr_area'])"
   ]
  },
  {
   "cell_type": "code",
   "execution_count": 18,
   "id": "b14f0b4d-8727-491e-94a6-426b4a00bbc9",
   "metadata": {},
   "outputs": [
    {
     "data": {
      "text/plain": [
       "0      1216\n",
       "         22\n",
       "120      11\n",
       "200      10\n",
       "176      10\n",
       "Name: mas_vnr_area, dtype: int64"
      ]
     },
     "execution_count": 18,
     "metadata": {},
     "output_type": "execute_result"
    }
   ],
   "source": [
    "train['mas_vnr_area'].value_counts().head()"
   ]
  },
  {
   "cell_type": "markdown",
   "id": "ffce5965-0f4d-42af-a3ec-d830b25c92f6",
   "metadata": {},
   "source": [
    "All the non-numeric values in 'mas_vnr_area' are empty strings. 0 is present and much more frequent than empty."
   ]
  },
  {
   "cell_type": "code",
   "execution_count": 19,
   "id": "0ffa6b8a-def2-47ae-8acc-4c9b55cca1f5",
   "metadata": {},
   "outputs": [
    {
     "data": {
      "text/plain": [
       "['']"
      ]
     },
     "execution_count": 19,
     "metadata": {},
     "output_type": "execute_result"
    }
   ],
   "source": [
    "ct.find_non_numeric(train['bsmtfin_sf_1'])"
   ]
  },
  {
   "cell_type": "code",
   "execution_count": 20,
   "id": "9d7ea71f-4bf5-4bcf-9feb-ee7748ba8158",
   "metadata": {},
   "outputs": [
    {
     "data": {
      "text/plain": [
       "0      657\n",
       "24      17\n",
       "16      10\n",
       "20       7\n",
       "384      7\n",
       "Name: bsmtfin_sf_1, dtype: int64"
      ]
     },
     "execution_count": 20,
     "metadata": {},
     "output_type": "execute_result"
    }
   ],
   "source": [
    "train['bsmtfin_sf_1'].value_counts().head()"
   ]
  },
  {
   "cell_type": "markdown",
   "id": "fef4cb71-b5e0-4575-a05d-62d0cc42fa0c",
   "metadata": {},
   "source": [
    "All the non-numeric values in 'bsmtfin_sf_1' are empty strings.  0 is present and much more frequent than empty."
   ]
  },
  {
   "cell_type": "code",
   "execution_count": 21,
   "id": "45903144-4caf-45eb-bf63-92f1fda080e1",
   "metadata": {},
   "outputs": [
    {
     "data": {
      "text/plain": [
       "['']"
      ]
     },
     "execution_count": 21,
     "metadata": {},
     "output_type": "execute_result"
    }
   ],
   "source": [
    "ct.find_non_numeric(train['bsmtfin_sf_2'])"
   ]
  },
  {
   "cell_type": "code",
   "execution_count": 22,
   "id": "c0a1a60c-cbb7-4940-91c9-912d9985dab4",
   "metadata": {},
   "outputs": [
    {
     "data": {
      "text/plain": [
       "0      1803\n",
       "294       5\n",
       "162       3\n",
       "72        3\n",
       "180       3\n",
       "Name: bsmtfin_sf_2, dtype: int64"
      ]
     },
     "execution_count": 22,
     "metadata": {},
     "output_type": "execute_result"
    }
   ],
   "source": [
    "train['bsmtfin_sf_2'].value_counts().head()"
   ]
  },
  {
   "cell_type": "markdown",
   "id": "56a28e93-2ed1-4ad0-b7c0-9ad3e8308804",
   "metadata": {},
   "source": [
    "All the non-numeric values in 'bsmtfin_sf_2' are empty strings. 0 is present and much more frequent than empty."
   ]
  },
  {
   "cell_type": "code",
   "execution_count": 23,
   "id": "80523f07-2ce8-4543-94ef-f5f56b47d5e4",
   "metadata": {},
   "outputs": [
    {
     "data": {
      "text/plain": [
       "['']"
      ]
     },
     "execution_count": 23,
     "metadata": {},
     "output_type": "execute_result"
    }
   ],
   "source": [
    "ct.find_non_numeric(train['bsmt_unf_sf'])"
   ]
  },
  {
   "cell_type": "code",
   "execution_count": 24,
   "id": "8ceff5eb-751b-4572-a744-47d4be7d502a",
   "metadata": {},
   "outputs": [
    {
     "data": {
      "text/plain": [
       "0      165\n",
       "384     14\n",
       "672     11\n",
       "728     10\n",
       "816      9\n",
       "Name: bsmt_unf_sf, dtype: int64"
      ]
     },
     "execution_count": 24,
     "metadata": {},
     "output_type": "execute_result"
    }
   ],
   "source": [
    "train['bsmt_unf_sf'].value_counts().head()"
   ]
  },
  {
   "cell_type": "markdown",
   "id": "44417899-659a-46c0-8b38-803502724289",
   "metadata": {},
   "source": [
    "All the non-numeric values in 'bsmt_unf_sf' are empty strings.  0 is present and much for frequent than empty."
   ]
  },
  {
   "cell_type": "code",
   "execution_count": 25,
   "id": "9938ba71-b52f-45bf-974d-d722a1e5336b",
   "metadata": {},
   "outputs": [
    {
     "data": {
      "text/plain": [
       "['']"
      ]
     },
     "execution_count": 25,
     "metadata": {},
     "output_type": "execute_result"
    }
   ],
   "source": [
    "ct.find_non_numeric(train['total_bsmt_sf'])"
   ]
  },
  {
   "cell_type": "code",
   "execution_count": 26,
   "id": "7ca812c3-fbe5-4c43-b2de-255c5c0ac0b4",
   "metadata": {},
   "outputs": [
    {
     "data": {
      "text/plain": [
       "0       54\n",
       "864     51\n",
       "1040    20\n",
       "672     20\n",
       "816     17\n",
       "Name: total_bsmt_sf, dtype: int64"
      ]
     },
     "execution_count": 26,
     "metadata": {},
     "output_type": "execute_result"
    }
   ],
   "source": [
    "train['total_bsmt_sf'].value_counts().head()"
   ]
  },
  {
   "cell_type": "markdown",
   "id": "685456b0-5182-4207-a639-7a8be0af499c",
   "metadata": {},
   "source": [
    "All the non-numeric values in 'total_bsmt_sf' are empty strings.  0 is present and much for frequent than empty."
   ]
  },
  {
   "cell_type": "code",
   "execution_count": 27,
   "id": "c34687b3-55cd-47be-852b-179435a3379b",
   "metadata": {},
   "outputs": [
    {
     "data": {
      "text/plain": [
       "['']"
      ]
     },
     "execution_count": 27,
     "metadata": {},
     "output_type": "execute_result"
    }
   ],
   "source": [
    "ct.find_non_numeric(train['bsmt_full_bath'])"
   ]
  },
  {
   "cell_type": "code",
   "execution_count": 28,
   "id": "a3f80431-a458-46cc-a443-324a5f973e23",
   "metadata": {},
   "outputs": [
    {
     "data": {
      "text/plain": [
       "0    1200\n",
       "1     824\n",
       "2      23\n",
       "        2\n",
       "3       2\n",
       "Name: bsmt_full_bath, dtype: int64"
      ]
     },
     "execution_count": 28,
     "metadata": {},
     "output_type": "execute_result"
    }
   ],
   "source": [
    "train['bsmt_full_bath'].value_counts().head()"
   ]
  },
  {
   "cell_type": "markdown",
   "id": "6c31a5db-a5eb-4841-8496-b76de146dafe",
   "metadata": {},
   "source": [
    "All the non-numeric values in 'bsmt_full_bath' are empty strings.  0 is present and much for frequent than empty."
   ]
  },
  {
   "cell_type": "code",
   "execution_count": 29,
   "id": "9cbcc8f4-54fb-4f39-b77c-3eeee99655e8",
   "metadata": {},
   "outputs": [
    {
     "data": {
      "text/plain": [
       "['']"
      ]
     },
     "execution_count": 29,
     "metadata": {},
     "output_type": "execute_result"
    }
   ],
   "source": [
    "ct.find_non_numeric(train['bsmt_half_bath'])"
   ]
  },
  {
   "cell_type": "code",
   "execution_count": 30,
   "id": "adb645a1-ff34-4542-a50b-1a1c8af0a25f",
   "metadata": {},
   "outputs": [
    {
     "data": {
      "text/plain": [
       "0    1923\n",
       "1     122\n",
       "2       4\n",
       "        2\n",
       "Name: bsmt_half_bath, dtype: int64"
      ]
     },
     "execution_count": 30,
     "metadata": {},
     "output_type": "execute_result"
    }
   ],
   "source": [
    "train['bsmt_half_bath'].value_counts().head()"
   ]
  },
  {
   "cell_type": "markdown",
   "id": "7cff17ab-7e46-4e9f-8b22-0f471b53c3ec",
   "metadata": {},
   "source": [
    "All the non-numeric values in 'bsmt_half_bath' are empty strings.  0 is present and much for frequent than empty."
   ]
  },
  {
   "cell_type": "code",
   "execution_count": 31,
   "id": "21fb9f02-79f8-4361-8694-a79216c13cb4",
   "metadata": {},
   "outputs": [
    {
     "data": {
      "text/plain": [
       "['']"
      ]
     },
     "execution_count": 31,
     "metadata": {},
     "output_type": "execute_result"
    }
   ],
   "source": [
    "ct.find_non_numeric(train['garage_yr_blt'])"
   ]
  },
  {
   "cell_type": "code",
   "execution_count": 32,
   "id": "1f907277-bcea-46ad-9112-bac097952478",
   "metadata": {},
   "outputs": [
    {
     "data": {
      "text/plain": [
       "        114\n",
       "2005    105\n",
       "2007     84\n",
       "2006     80\n",
       "2004     72\n",
       "Name: garage_yr_blt, dtype: int64"
      ]
     },
     "execution_count": 32,
     "metadata": {},
     "output_type": "execute_result"
    }
   ],
   "source": [
    "train['garage_yr_blt'].value_counts().head()"
   ]
  },
  {
   "cell_type": "markdown",
   "id": "95fa715e-1db3-4f67-aa7a-f18c0237d7ef",
   "metadata": {},
   "source": [
    "All the non-numeric values in 'garage_yr_blt' are empty strings. In this case, empty could refer to either unknown or the lack of a garage."
   ]
  },
  {
   "cell_type": "code",
   "execution_count": 33,
   "id": "2bba10ff-7c19-4f7c-9a10-f89d78e25b51",
   "metadata": {},
   "outputs": [
    {
     "data": {
      "text/plain": [
       "['']"
      ]
     },
     "execution_count": 33,
     "metadata": {},
     "output_type": "execute_result"
    }
   ],
   "source": [
    "ct.find_non_numeric(train['garage_cars'])"
   ]
  },
  {
   "cell_type": "code",
   "execution_count": 34,
   "id": "a74ec15e-f534-41b3-a8fa-a36dfb4400e4",
   "metadata": {},
   "outputs": [
    {
     "data": {
      "text/plain": [
       "2    1136\n",
       "1     524\n",
       "3     263\n",
       "0     113\n",
       "4      13\n",
       "Name: garage_cars, dtype: int64"
      ]
     },
     "execution_count": 34,
     "metadata": {},
     "output_type": "execute_result"
    }
   ],
   "source": [
    "train['garage_cars'].value_counts().head()"
   ]
  },
  {
   "cell_type": "markdown",
   "id": "7a2ae270-293a-49c0-9682-2b8b90700f0b",
   "metadata": {},
   "source": [
    "All the non-numeric values in 'garage_cars' are empty strings.  0 is present and more frequent than empty."
   ]
  },
  {
   "cell_type": "code",
   "execution_count": 35,
   "id": "73434849-50e3-4cd6-abc6-3dc8db0d865f",
   "metadata": {},
   "outputs": [
    {
     "data": {
      "text/plain": [
       "['']"
      ]
     },
     "execution_count": 35,
     "metadata": {},
     "output_type": "execute_result"
    }
   ],
   "source": [
    "ct.find_non_numeric(train['garage_area'])"
   ]
  },
  {
   "cell_type": "code",
   "execution_count": 36,
   "id": "a154c982-8d9a-4862-8f04-a0a9f7f84593",
   "metadata": {},
   "outputs": [
    {
     "data": {
      "text/plain": [
       "0      113\n",
       "440     70\n",
       "576     69\n",
       "484     52\n",
       "528     46\n",
       "Name: garage_area, dtype: int64"
      ]
     },
     "execution_count": 36,
     "metadata": {},
     "output_type": "execute_result"
    }
   ],
   "source": [
    "train['garage_area'].value_counts().head()"
   ]
  },
  {
   "cell_type": "markdown",
   "id": "044f642d-dc17-443d-9cf8-8306ef71a181",
   "metadata": {},
   "source": [
    "All the non-numeric values in 'garage_area' are empty strings. 0 is present and much more frequent than empty."
   ]
  },
  {
   "cell_type": "code",
   "execution_count": 37,
   "id": "cacea391-9556-4673-bffc-effa8b60e219",
   "metadata": {},
   "outputs": [
    {
     "data": {
      "text/plain": [
       "['NA', 'Fa', 'Gd', 'Ex', 'TA']"
      ]
     },
     "execution_count": 37,
     "metadata": {},
     "output_type": "execute_result"
    }
   ],
   "source": [
    "ct.find_non_numeric(train['pool_qc'])"
   ]
  },
  {
   "cell_type": "code",
   "execution_count": 38,
   "id": "5095169a-d2ef-411a-97bb-0e652e7d1b71",
   "metadata": {},
   "outputs": [
    {
     "data": {
      "text/plain": [
       "NA    2042\n",
       "Gd       4\n",
       "TA       2\n",
       "Fa       2\n",
       "Ex       1\n",
       "Name: pool_qc, dtype: int64"
      ]
     },
     "execution_count": 38,
     "metadata": {},
     "output_type": "execute_result"
    }
   ],
   "source": [
    "train['pool_qc'].value_counts()"
   ]
  },
  {
   "cell_type": "markdown",
   "id": "14262f79-4019-4d08-a5d4-b2c5c44b5289",
   "metadata": {},
   "source": [
    "'pool_qc' is categorical, and most of its entries are NA."
   ]
  },
  {
   "cell_type": "code",
   "execution_count": 39,
   "id": "75ab1109-5ea2-44e6-bede-e27950eb216d",
   "metadata": {},
   "outputs": [
    {
     "data": {
      "text/plain": [
       "['NA', 'MnPrv', 'GdPrv', 'GdWo', 'MnWw']"
      ]
     },
     "execution_count": 39,
     "metadata": {},
     "output_type": "execute_result"
    }
   ],
   "source": [
    "ct.find_non_numeric(train['fence'])"
   ]
  },
  {
   "cell_type": "code",
   "execution_count": 40,
   "id": "6f078f03-4765-4faa-a65e-57e5902ac9c8",
   "metadata": {},
   "outputs": [
    {
     "data": {
      "text/plain": [
       "NA       1651\n",
       "MnPrv     227\n",
       "GdPrv      83\n",
       "GdWo       80\n",
       "MnWw       10\n",
       "Name: fence, dtype: int64"
      ]
     },
     "execution_count": 40,
     "metadata": {},
     "output_type": "execute_result"
    }
   ],
   "source": [
    "train['fence'].value_counts()"
   ]
  },
  {
   "cell_type": "markdown",
   "id": "52531457-82ea-4550-a13c-4ad436402f87",
   "metadata": {},
   "source": [
    "'fence' is categorical, and most of its values are NA."
   ]
  },
  {
   "cell_type": "code",
   "execution_count": 41,
   "id": "cf3fd831-58cb-49c2-92c4-179bc12b2d72",
   "metadata": {},
   "outputs": [
    {
     "data": {
      "text/plain": [
       "['NA', 'Shed', 'TenC', 'Gar2', 'Othr', 'Elev']"
      ]
     },
     "execution_count": 41,
     "metadata": {},
     "output_type": "execute_result"
    }
   ],
   "source": [
    "ct.find_non_numeric(train['misc_feature'])"
   ]
  },
  {
   "cell_type": "code",
   "execution_count": 42,
   "id": "0b826d10-4add-4084-b101-e096dced4b94",
   "metadata": {},
   "outputs": [
    {
     "data": {
      "text/plain": [
       "NA      1986\n",
       "Shed      56\n",
       "Gar2       4\n",
       "Othr       3\n",
       "TenC       1\n",
       "Elev       1\n",
       "Name: misc_feature, dtype: int64"
      ]
     },
     "execution_count": 42,
     "metadata": {},
     "output_type": "execute_result"
    }
   ],
   "source": [
    "train['misc_feature'].value_counts()"
   ]
  },
  {
   "cell_type": "markdown",
   "id": "3fd066d4-3b85-4033-a239-7b3a02bd0e3a",
   "metadata": {},
   "source": [
    "'misc_feature' is categorical, and most if its values are NA."
   ]
  },
  {
   "cell_type": "markdown",
   "id": "abf7acf1-b438-4a4d-a39a-38d62774b4f0",
   "metadata": {},
   "source": [
    "Many of these columns should probably be coded as numeric with NaN values.  I will decide how to handle the NaN values during feature engineering.  Before I do this, though, it's worth considering for each column why the values may be missing, and whether there is a better option than coding them as NaN.\n",
    "\n",
    "- 'lot_frontage' --> Linear feet of street connected to property.\n",
    "    - It's possible that there is no street connected to the properties with missing values.\n",
    "    - Ames is a small town surrounded by farmland.\n",
    "    - 'lot_config' also has to do with frontage and may help shed light on this.\n",
    "- 'mas_vnr_area' --> Masonry veneer area in square feet.\n",
    "    - Empty may mean no veneer, but 0 is also present as a value, so I can't assume that.\n",
    "    - This will be worth cross-referencing with 'mas_vnr_type'\n",
    "- 'bsmtfin_sf_1' --> Type 1 finished square fee.\n",
    "    - Empty could mean no finishing, but 0 is also present.  There are very few houses with this value empty.\n",
    "    - It may help to cross-reference with other features involving basements.\n",
    "- 'bsmtfin_sf_2' --> Type 2 finished square fee.\n",
    "    - Similar to 'bsmtfin_sf_1'\n",
    "- 'bsmt_unf_sf' --> Unfinished square feet of basement area.\n",
    "- 'total_bsmt_sf' --> Total square feet of basement area.\n",
    "- 'bsmt_full_bath' --> Basement full bathrooms.\n",
    "- 'bsmt_half_bath' --> Basement half bathrooms.\n",
    "- 'garage_yr_blt' --> Year garage was built.\n",
    "    - Cross reference with other garage variables.\n",
    "- 'garage_cars' --> Size of garage in car capacity.\n",
    "- 'garage_area' --> Size of garage in square feet."
   ]
  },
  {
   "cell_type": "markdown",
   "id": "97a6fcb2-91f9-47fb-94e1-ee7a01241b3b",
   "metadata": {},
   "source": [
    "#### *'lot_config' and 'lot_frontage'* ####"
   ]
  },
  {
   "cell_type": "code",
   "execution_count": 43,
   "id": "253c44fb-cbf3-4020-8709-527abd539bca",
   "metadata": {},
   "outputs": [
    {
     "data": {
      "text/plain": [
       "Inside     190\n",
       "Corner      67\n",
       "CulDSac     61\n",
       "FR2         11\n",
       "FR3          1\n",
       "Name: lot_config, dtype: int64"
      ]
     },
     "execution_count": 43,
     "metadata": {},
     "output_type": "execute_result"
    }
   ],
   "source": [
    "# Show lot configuration for all listings with empty value for lot frontage.\n",
    "train['lot_config'][train['lot_frontage'] == ''].value_counts()"
   ]
  },
  {
   "cell_type": "code",
   "execution_count": 44,
   "id": "b84ff309-658b-4264-8378-e154139c23b0",
   "metadata": {},
   "outputs": [
    {
     "data": {
      "text/plain": [
       "Inside     1503\n",
       "Corner      348\n",
       "CulDSac     131\n",
       "FR2          60\n",
       "FR3           9\n",
       "Name: lot_config, dtype: int64"
      ]
     },
     "execution_count": 44,
     "metadata": {},
     "output_type": "execute_result"
    }
   ],
   "source": [
    "train['lot_config'].value_counts()"
   ]
  },
  {
   "cell_type": "markdown",
   "id": "d4a225d2-8d80-4c54-9d1f-00f68aeb1d0a",
   "metadata": {},
   "source": [
    "Some of the listings with no value listed for lot frontage are also listed as having frontage on multiple sides.  Further investigation reveals that the only lot configurations in the data set are \"inside,\" \"corner,\" \"cul-de-sec,\" \"frontage on 2 sides,\" and \"frontage on 3 sides.\"  This confirms that all listings do have at least some kind of frontage ([source](https://journal.firsttuesday.us/type-of-lots/70394/)).  For every lot configuration, there are some with a value for 'lot_frontage' and some without.  Therefore, these missing values cannot be easily accounted for.  They will be filled with NaN until feature selection."
   ]
  },
  {
   "cell_type": "markdown",
   "id": "93a11e7e-88cc-480c-b3b1-9d94ab4ad75c",
   "metadata": {},
   "source": [
    "#### *'mas_vnr_type' and 'mas_vnr_area'* ####"
   ]
  },
  {
   "cell_type": "code",
   "execution_count": 45,
   "id": "a3678718-e85c-4733-a495-7307d3e07a7e",
   "metadata": {},
   "outputs": [
    {
     "data": {
      "text/plain": [
       "None       1218\n",
       "BrkFace     630\n",
       "Stone       168\n",
       "             22\n",
       "BrkCmn       13\n",
       "Name: mas_vnr_type, dtype: int64"
      ]
     },
     "execution_count": 45,
     "metadata": {},
     "output_type": "execute_result"
    }
   ],
   "source": [
    "train['mas_vnr_type'].value_counts()"
   ]
  },
  {
   "cell_type": "code",
   "execution_count": 46,
   "id": "9c44be4d-0055-4626-ab92-a6bebb683330",
   "metadata": {},
   "outputs": [
    {
     "data": {
      "text/plain": [
       "    22\n",
       "Name: mas_vnr_type, dtype: int64"
      ]
     },
     "execution_count": 46,
     "metadata": {},
     "output_type": "execute_result"
    }
   ],
   "source": [
    "# Show masonry veneer type for all listings with empty value for masonry veneer area.\n",
    "train['mas_vnr_type'][train['mas_vnr_area'] == ''].value_counts()"
   ]
  },
  {
   "cell_type": "code",
   "execution_count": 47,
   "id": "6d8eb60f-dd05-4539-a61d-eb329dd620b4",
   "metadata": {},
   "outputs": [
    {
     "data": {
      "text/plain": [
       "None       1213\n",
       "BrkFace       2\n",
       "Stone         1\n",
       "Name: mas_vnr_type, dtype: int64"
      ]
     },
     "execution_count": 47,
     "metadata": {},
     "output_type": "execute_result"
    }
   ],
   "source": [
    "# Show masonry veneer type for all listings with 0 value for masonry veneer area.\n",
    "train['mas_vnr_type'][train['mas_vnr_area'] == '0'].value_counts()"
   ]
  },
  {
   "cell_type": "code",
   "execution_count": 48,
   "id": "0162027b-191a-4cc7-bff9-cdc2386293d6",
   "metadata": {},
   "outputs": [
    {
     "data": {
      "text/plain": [
       "0      1213\n",
       "1         3\n",
       "288       1\n",
       "344       1\n",
       "Name: mas_vnr_area, dtype: int64"
      ]
     },
     "execution_count": 48,
     "metadata": {},
     "output_type": "execute_result"
    }
   ],
   "source": [
    "train['mas_vnr_area'][train['mas_vnr_type'] == 'None'].value_counts()"
   ]
  },
  {
   "cell_type": "markdown",
   "id": "6ae2c758-b182-4105-b22c-df2ff1d7d8c4",
   "metadata": {},
   "source": [
    "The missing values for masonry veneer type and masonry veneer area correspond exactly.  It's reasonable to guess that they should be None or 0.  This will be explored during feature selection.\n",
    "\n",
    "There are a few nonsense values where the veneer area is 0 but type is other than None, or vice versa.  However, there aren't many such instances, and I can't do much about this, as it would be difficult to spot and account for such instances on unseen data."
   ]
  },
  {
   "cell_type": "markdown",
   "id": "cf4a6a52-c79f-48a6-80ab-1f1e53a4743e",
   "metadata": {},
   "source": [
    "#### *'bsmt' Features* ####"
   ]
  },
  {
   "cell_type": "code",
   "execution_count": 49,
   "id": "dfd26209-f600-4bf5-921f-c1cca825ff61",
   "metadata": {},
   "outputs": [],
   "source": [
    "# Create a list of the basement features.\n",
    "bsmt_features = [col for col in train.columns if 'bsmt' in col]"
   ]
  },
  {
   "cell_type": "code",
   "execution_count": 50,
   "id": "25587dc1-345c-4c6e-8979-57784307291b",
   "metadata": {},
   "outputs": [
    {
     "data": {
      "text/html": [
       "<div>\n",
       "<style scoped>\n",
       "    .dataframe tbody tr th:only-of-type {\n",
       "        vertical-align: middle;\n",
       "    }\n",
       "\n",
       "    .dataframe tbody tr th {\n",
       "        vertical-align: top;\n",
       "    }\n",
       "\n",
       "    .dataframe thead th {\n",
       "        text-align: right;\n",
       "    }\n",
       "</style>\n",
       "<table border=\"1\" class=\"dataframe\">\n",
       "  <thead>\n",
       "    <tr style=\"text-align: right;\">\n",
       "      <th></th>\n",
       "      <th>bsmt_qual</th>\n",
       "      <th>bsmt_cond</th>\n",
       "      <th>bsmt_exposure</th>\n",
       "      <th>bsmtfin_type_1</th>\n",
       "      <th>bsmtfin_sf_1</th>\n",
       "      <th>bsmtfin_type_2</th>\n",
       "      <th>bsmtfin_sf_2</th>\n",
       "      <th>bsmt_unf_sf</th>\n",
       "      <th>total_bsmt_sf</th>\n",
       "      <th>bsmt_full_bath</th>\n",
       "      <th>bsmt_half_bath</th>\n",
       "    </tr>\n",
       "  </thead>\n",
       "  <tbody>\n",
       "    <tr>\n",
       "      <th>616</th>\n",
       "      <td>NA</td>\n",
       "      <td>NA</td>\n",
       "      <td>NA</td>\n",
       "      <td>NA</td>\n",
       "      <td>0</td>\n",
       "      <td>NA</td>\n",
       "      <td>0</td>\n",
       "      <td>0</td>\n",
       "      <td>0</td>\n",
       "      <td></td>\n",
       "      <td></td>\n",
       "    </tr>\n",
       "    <tr>\n",
       "      <th>1147</th>\n",
       "      <td>Gd</td>\n",
       "      <td>TA</td>\n",
       "      <td>No</td>\n",
       "      <td>GLQ</td>\n",
       "      <td>1124</td>\n",
       "      <td></td>\n",
       "      <td>479</td>\n",
       "      <td>1603</td>\n",
       "      <td>3206</td>\n",
       "      <td>1</td>\n",
       "      <td>0</td>\n",
       "    </tr>\n",
       "    <tr>\n",
       "      <th>1327</th>\n",
       "      <td></td>\n",
       "      <td></td>\n",
       "      <td></td>\n",
       "      <td></td>\n",
       "      <td></td>\n",
       "      <td></td>\n",
       "      <td></td>\n",
       "      <td></td>\n",
       "      <td></td>\n",
       "      <td></td>\n",
       "      <td></td>\n",
       "    </tr>\n",
       "    <tr>\n",
       "      <th>1456</th>\n",
       "      <td>Gd</td>\n",
       "      <td>TA</td>\n",
       "      <td></td>\n",
       "      <td>Unf</td>\n",
       "      <td>0</td>\n",
       "      <td>Unf</td>\n",
       "      <td>0</td>\n",
       "      <td>725</td>\n",
       "      <td>725</td>\n",
       "      <td>0</td>\n",
       "      <td>0</td>\n",
       "    </tr>\n",
       "    <tr>\n",
       "      <th>1547</th>\n",
       "      <td>Gd</td>\n",
       "      <td>TA</td>\n",
       "      <td></td>\n",
       "      <td>Unf</td>\n",
       "      <td>0</td>\n",
       "      <td>Unf</td>\n",
       "      <td>0</td>\n",
       "      <td>1595</td>\n",
       "      <td>1595</td>\n",
       "      <td>0</td>\n",
       "      <td>0</td>\n",
       "    </tr>\n",
       "    <tr>\n",
       "      <th>1997</th>\n",
       "      <td>Gd</td>\n",
       "      <td>TA</td>\n",
       "      <td></td>\n",
       "      <td>Unf</td>\n",
       "      <td>0</td>\n",
       "      <td>Unf</td>\n",
       "      <td>0</td>\n",
       "      <td>936</td>\n",
       "      <td>936</td>\n",
       "      <td>0</td>\n",
       "      <td>0</td>\n",
       "    </tr>\n",
       "  </tbody>\n",
       "</table>\n",
       "</div>"
      ],
      "text/plain": [
       "     bsmt_qual bsmt_cond bsmt_exposure bsmtfin_type_1 bsmtfin_sf_1  \\\n",
       "616         NA        NA            NA             NA            0   \n",
       "1147        Gd        TA            No            GLQ         1124   \n",
       "1327                                                                 \n",
       "1456        Gd        TA                          Unf            0   \n",
       "1547        Gd        TA                          Unf            0   \n",
       "1997        Gd        TA                          Unf            0   \n",
       "\n",
       "     bsmtfin_type_2 bsmtfin_sf_2 bsmt_unf_sf total_bsmt_sf bsmt_full_bath  \\\n",
       "616              NA            0           0             0                  \n",
       "1147                         479        1603          3206              1   \n",
       "1327                                                                        \n",
       "1456            Unf            0         725           725              0   \n",
       "1547            Unf            0        1595          1595              0   \n",
       "1997            Unf            0         936           936              0   \n",
       "\n",
       "     bsmt_half_bath  \n",
       "616                  \n",
       "1147              0  \n",
       "1327                 \n",
       "1456              0  \n",
       "1547              0  \n",
       "1997              0  "
      ]
     },
     "execution_count": 50,
     "metadata": {},
     "output_type": "execute_result"
    }
   ],
   "source": [
    "# Show only the rows for which at least one basement feature is ''.\n",
    "train[bsmt_features][train[bsmt_features].isin(['']).any(axis=1)]"
   ]
  },
  {
   "cell_type": "markdown",
   "id": "71561742-5073-4fcf-9c0d-314d8a0e7166",
   "metadata": {},
   "source": [
    "It is highly likely that all the missing numeric entries should be 0.  These will be filled with 0 at the end of this section.\n",
    "- 616 has no basement, and the basement bath features were left empty.\n",
    "- 1327 likely also has no basement, as none of those fields are filled.\n",
    "\n",
    "The categorical variables will be revisited during feature engineering."
   ]
  },
  {
   "cell_type": "markdown",
   "id": "fcd10773-2dff-4917-af0e-cb6c082dca97",
   "metadata": {},
   "source": [
    "#### *'garage' Features* ####"
   ]
  },
  {
   "cell_type": "code",
   "execution_count": 51,
   "id": "1b24085b-089f-43fe-a1ed-0e119c00c5e3",
   "metadata": {},
   "outputs": [
    {
     "data": {
      "text/plain": [
       "['garage_type',\n",
       " 'garage_yr_blt',\n",
       " 'garage_finish',\n",
       " 'garage_cars',\n",
       " 'garage_area',\n",
       " 'garage_qual',\n",
       " 'garage_cond']"
      ]
     },
     "execution_count": 51,
     "metadata": {},
     "output_type": "execute_result"
    }
   ],
   "source": [
    "# Create a list of the garage features.\n",
    "garage_features = [col for col in train.columns if 'garage' in col]\n",
    "garage_features"
   ]
  },
  {
   "cell_type": "code",
   "execution_count": 52,
   "id": "919c5a0c-a392-4edd-b305-88b4dc546a4e",
   "metadata": {},
   "outputs": [
    {
     "data": {
      "text/html": [
       "<div>\n",
       "<style scoped>\n",
       "    .dataframe tbody tr th:only-of-type {\n",
       "        vertical-align: middle;\n",
       "    }\n",
       "\n",
       "    .dataframe tbody tr th {\n",
       "        vertical-align: top;\n",
       "    }\n",
       "\n",
       "    .dataframe thead th {\n",
       "        text-align: right;\n",
       "    }\n",
       "</style>\n",
       "<table border=\"1\" class=\"dataframe\">\n",
       "  <thead>\n",
       "    <tr style=\"text-align: right;\">\n",
       "      <th></th>\n",
       "      <th>garage_type</th>\n",
       "      <th>garage_yr_blt</th>\n",
       "      <th>garage_finish</th>\n",
       "      <th>garage_cars</th>\n",
       "      <th>garage_area</th>\n",
       "      <th>garage_qual</th>\n",
       "      <th>garage_cond</th>\n",
       "    </tr>\n",
       "  </thead>\n",
       "  <tbody>\n",
       "    <tr>\n",
       "      <th>28</th>\n",
       "      <td>NA</td>\n",
       "      <td></td>\n",
       "      <td>NA</td>\n",
       "      <td>0</td>\n",
       "      <td>0</td>\n",
       "      <td>NA</td>\n",
       "      <td>NA</td>\n",
       "    </tr>\n",
       "    <tr>\n",
       "      <th>53</th>\n",
       "      <td>NA</td>\n",
       "      <td></td>\n",
       "      <td>NA</td>\n",
       "      <td>0</td>\n",
       "      <td>0</td>\n",
       "      <td>NA</td>\n",
       "      <td>NA</td>\n",
       "    </tr>\n",
       "    <tr>\n",
       "      <th>65</th>\n",
       "      <td>NA</td>\n",
       "      <td></td>\n",
       "      <td>NA</td>\n",
       "      <td>0</td>\n",
       "      <td>0</td>\n",
       "      <td>NA</td>\n",
       "      <td>NA</td>\n",
       "    </tr>\n",
       "    <tr>\n",
       "      <th>79</th>\n",
       "      <td>NA</td>\n",
       "      <td></td>\n",
       "      <td>NA</td>\n",
       "      <td>0</td>\n",
       "      <td>0</td>\n",
       "      <td>NA</td>\n",
       "      <td>NA</td>\n",
       "    </tr>\n",
       "    <tr>\n",
       "      <th>101</th>\n",
       "      <td>NA</td>\n",
       "      <td></td>\n",
       "      <td>NA</td>\n",
       "      <td>0</td>\n",
       "      <td>0</td>\n",
       "      <td>NA</td>\n",
       "      <td>NA</td>\n",
       "    </tr>\n",
       "  </tbody>\n",
       "</table>\n",
       "</div>"
      ],
      "text/plain": [
       "    garage_type garage_yr_blt garage_finish garage_cars garage_area  \\\n",
       "28           NA                          NA           0           0   \n",
       "53           NA                          NA           0           0   \n",
       "65           NA                          NA           0           0   \n",
       "79           NA                          NA           0           0   \n",
       "101          NA                          NA           0           0   \n",
       "\n",
       "    garage_qual garage_cond  \n",
       "28           NA          NA  \n",
       "53           NA          NA  \n",
       "65           NA          NA  \n",
       "79           NA          NA  \n",
       "101          NA          NA  "
      ]
     },
     "execution_count": 52,
     "metadata": {},
     "output_type": "execute_result"
    }
   ],
   "source": [
    "# Show only the rows for which at least one garage feature is ''.  Showing only the first 5.\n",
    "train[garage_features][train[garage_features].isin(['']).any(axis=1)].head()"
   ]
  },
  {
   "cell_type": "markdown",
   "id": "25d2bcf9-40e9-4e29-91a8-c608ff366ef4",
   "metadata": {},
   "source": [
    "The problem is that year build is a numeric column, so the only reasonable option for it when there is no garage is to leave it blank.  Let's take year built out of the list temporarily and see what's left."
   ]
  },
  {
   "cell_type": "code",
   "execution_count": 53,
   "id": "a7c4e559-18c8-43a7-ba69-6a79261950dd",
   "metadata": {},
   "outputs": [
    {
     "name": "stdout",
     "output_type": "stream",
     "text": [
      "     garage_type garage_finish garage_cars garage_area garage_qual garage_cond\n",
      "1712      Detchd                                                              \n"
     ]
    }
   ],
   "source": [
    "# How many empty values are in the garage features other than year built?\n",
    "garage_features.remove('garage_yr_blt')\n",
    "print(train[garage_features][train[garage_features].isin(['']).any(axis=1)].head())\n",
    "garage_features.append('garage_yr_blt')"
   ]
  },
  {
   "cell_type": "markdown",
   "id": "25c1a6bd-fedc-47e8-b37d-2303b1b87200",
   "metadata": {},
   "source": [
    "The only problem left is 1712, which says it has a detached garage but has no further information about it.  The missing values most likely represent missing information about a real garage.  Since there is only one row like this, I will fill the numeric columns with the mean for all other garages with type 'Detchd'.\n",
    "\n",
    "Because missing 'garage_yr_blt' values mostly indicate lack of a garage, those will be filled with NaN until further options are explored during feature selection."
   ]
  },
  {
   "cell_type": "markdown",
   "id": "a5d95252-8d6d-4dd7-8a2e-edd2ba9010ff",
   "metadata": {},
   "source": [
    "## III. Numeric NaN Pipeline ##"
   ]
  },
  {
   "cell_type": "code",
   "execution_count": 54,
   "id": "e2e3e9cb-fcd0-49ea-ab1c-8d5f40a8ba55",
   "metadata": {
    "tags": []
   },
   "outputs": [],
   "source": [
    "def pipe_float_na(df):\n",
    "\n",
    "    # Replace empty values with NaN and typecast column to float.\n",
    "    df['lot_frontage'] = df['lot_frontage'].apply(ct.convert_to_float)\n",
    "    df['mas_vnr_area'] = df['mas_vnr_area'].apply(ct.convert_to_float)\n",
    "    df['garage_yr_blt'] = df['garage_yr_blt'].apply(ct.convert_to_float)\n",
    "\n",
    "    # Select only the numeric basement features.\n",
    "    bsmt_numeric_features = [col for col in bsmt_features if ('sf' in col) or ('bath' in col)]\n",
    "    # Replace '' with 0.\n",
    "    # I found out how to make a tuple with one element here:\n",
    "    # https://stackoverflow.com/questions/12876177/how-to-create-a-tuple-with-only-one-element\n",
    "    for col in bsmt_numeric_features:\n",
    "        df[col] = df[col].apply(ct.convert_to_float, args=(0,))\n",
    "\n",
    "    # Replace missing values in numeric garage columns with NaN and typecast to float.\n",
    "    for col in ['garage_cars', 'garage_area']:\n",
    "        df[col] = df[col].apply(ct.convert_to_float)\n",
    "    # Fill the NaN values in the numeric garage colummns with the average over all columns with type 'Detchd'\n",
    "    df['garage_cars'].fillna(df['garage_cars'][df['garage_type'] == 'Detchd'].mean(), inplace=True)\n",
    "    df['garage_area'].fillna(df['garage_area'][df['garage_type'] == 'Detchd'].mean(), inplace=True)\n",
    "    \n",
    "    return df"
   ]
  },
  {
   "cell_type": "code",
   "execution_count": 55,
   "id": "3027c22e-0cfd-4a6d-b9d9-b980c5899c16",
   "metadata": {},
   "outputs": [],
   "source": [
    "train = pipe_float_na(train)\n",
    "test = pipe_float_na(test)"
   ]
  },
  {
   "cell_type": "code",
   "execution_count": 56,
   "id": "027b2f9d-9667-4f17-8248-392398a56b13",
   "metadata": {},
   "outputs": [],
   "source": [
    "train.to_csv('../datasets/train_1.csv', index=False, na_rep='null')\n",
    "test.to_csv('../datasets/test_1.csv', index=False, na_rep='null')"
   ]
  },
  {
   "cell_type": "markdown",
   "id": "f0e0ae60-d61c-4d9f-aafd-b9cfb921c096",
   "metadata": {},
   "source": [
    "## IV. Summary: Missing Values ##\n",
    "\n",
    "NOTE: There are now 3 column types: 'object' means strings, 'int' means numeric with no NaN, 'float' means numeric possibly with some NaN.\n",
    "\n",
    "- 'lot_frontage' has several NaN values that must either be dropped or replaced with reasonable guesses.\n",
    "- 'mas_vnr_type' and 'mas_vnr_area' have 22 empty or NaN values that perfectly coincide.  They likely should be None or 0.  This can be experimented with during feature engineering.\n",
    "    - 'mas_vnr_type' and 'mas_vnr_area' are contradictory for a very small number of entries.\n",
    "- Numeric 'bsmt' colums had a very small number of missing values replaced with 0, which is likely the correct value.\n",
    "- 'garage_yr_blt' NaN values mean there is no garage.\n",
    "- 'garage_cars' and 'garage_area' each had a single missing value replaced with their average for the garage type 'Detchd.'\n",
    "\n",
    "Some of the 'object' type columns may still have empty values that need to be replaced with NaN, but those will be better handled during feature engineering."
   ]
  }
 ],
 "metadata": {
  "kernelspec": {
   "display_name": "Python 3 (ipykernel)",
   "language": "python",
   "name": "python3"
  },
  "language_info": {
   "codemirror_mode": {
    "name": "ipython",
    "version": 3
   },
   "file_extension": ".py",
   "mimetype": "text/x-python",
   "name": "python",
   "nbconvert_exporter": "python",
   "pygments_lexer": "ipython3",
   "version": "3.8.12"
  }
 },
 "nbformat": 4,
 "nbformat_minor": 5
}
