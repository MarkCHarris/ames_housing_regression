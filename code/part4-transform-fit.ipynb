{
 "cells": [
  {
   "cell_type": "markdown",
   "id": "1398ddd9-8c5f-4b1f-90b6-eecedab25a1d",
   "metadata": {},
   "source": [
    "# Code Notebook 4: Transformation, Regression, and Conclusions #"
   ]
  },
  {
   "cell_type": "markdown",
   "id": "c3b0e361-588d-49bb-81ff-8d54191dfe34",
   "metadata": {},
   "source": [
    "In this notebook, the carefully chosen and prepared features undergo transformatting and fitting.  A gridsearch was used early in the process to aid in model selection.  Three of the most successful and promising models are presented, and then the results of the modelling process are summarized and analyzed, and recommendation made."
   ]
  },
  {
   "cell_type": "code",
   "execution_count": 1,
   "id": "397a58cc-e997-4d59-ab33-ef01ff761ef3",
   "metadata": {
    "tags": []
   },
   "outputs": [],
   "source": [
    "import numpy as np\n",
    "import pandas as pd\n",
    "import matplotlib.pyplot as plt\n",
    "\n",
    "from sklearn.linear_model import LinearRegression\n",
    "from sklearn.model_selection import train_test_split, GridSearchCV\n",
    "from sklearn.metrics import mean_squared_error\n",
    "from sklearn.linear_model import RidgeCV, LassoCV\n",
    "from sklearn.preprocessing import StandardScaler, PolynomialFeatures\n",
    "from sklearn.pipeline import Pipeline"
   ]
  },
  {
   "cell_type": "code",
   "execution_count": 2,
   "id": "409f8cd9-e1af-4be8-b534-32ddadf8a627",
   "metadata": {},
   "outputs": [],
   "source": [
    "train = pd.read_csv('../datasets/train_2.csv', keep_default_na=False, na_values='null')\n",
    "# In Part 4, I refer to the test data as \"unseen\" to distinguish it from any subsets of train I reserve for cross-validation or train/test/split.\n",
    "unseen = pd.read_csv('../datasets/test_2.csv', keep_default_na=False, na_values='null')"
   ]
  },
  {
   "cell_type": "markdown",
   "id": "ff518b0e-d284-49c7-8de7-b6063b6c5459",
   "metadata": {},
   "source": [
    "## XII. Transformation, Regression, and Metrics ##"
   ]
  },
  {
   "cell_type": "code",
   "execution_count": 3,
   "id": "a0970d25-03df-47f5-8f41-daa0ef51b354",
   "metadata": {},
   "outputs": [],
   "source": [
    "# Prepare the X and y data for fitting, including train/test/split.\n",
    "\n",
    "X_unseen = unseen.drop('id', axis=1)\n",
    "\n",
    "X = train.drop(['id', 'saleprice'], axis=1)\n",
    "y = train['saleprice']\n",
    "\n",
    "X_train, X_test, y_train, y_test = train_test_split(X, y, train_size=.7, random_state=23748)"
   ]
  },
  {
   "cell_type": "code",
   "execution_count": 4,
   "id": "daefcf78-7fd6-4869-9ad3-f571c0a1ce5b",
   "metadata": {},
   "outputs": [
    {
     "data": {
      "text/plain": [
       "GridSearchCV(cv=10,\n",
       "             estimator=Pipeline(steps=[('sc', StandardScaler()),\n",
       "                                       ('poly', PolynomialFeatures()),\n",
       "                                       ('lasso',\n",
       "                                        LassoCV(cv=10, max_iter=50000))]),\n",
       "             param_grid={'poly__degree': [1, 2, 3],\n",
       "                         'poly__include_bias': [True, False],\n",
       "                         'poly__interaction_only': [True, False]})"
      ]
     },
     "execution_count": 4,
     "metadata": {},
     "output_type": "execute_result"
    }
   ],
   "source": [
    "# Instantiate the transformers and regression algorithms that will be used.\n",
    "\n",
    "sc = StandardScaler()\n",
    "poly = PolynomialFeatures()\n",
    "linreg = LinearRegression()\n",
    "ridge = RidgeCV(cv=10)\n",
    "lasso = LassoCV(cv=10, max_iter=50_000)\n",
    "\n",
    "# Create a pipeline to experiment with different settings of the transformers and regression algorithms.\n",
    "# Whichever algorithms weren't were being used were commented out.\n",
    "\n",
    "pipe = Pipeline([\n",
    "    ('sc', sc),\n",
    "    ('poly', poly),\n",
    "#     ('linreg', linreg),\n",
    "#     ('ridge', ridge),\n",
    "    ('lasso', lasso)\n",
    "])\n",
    "\n",
    "# Set different transformer parameters to try in the pipeline.\n",
    "\n",
    "pipe_params = {\n",
    "    'poly__degree' : [1, 2, 3],\n",
    "    'poly__include_bias' : [True, False],\n",
    "    'poly__interaction_only' : [True, False]\n",
    "}\n",
    "\n",
    "gs = GridSearchCV(pipe, pipe_params, cv=10)\n",
    "\n",
    "gs.fit(X_train, y_train)"
   ]
  },
  {
   "cell_type": "markdown",
   "id": "287af5bc-51d1-4552-86fb-21a952cfe1e2",
   "metadata": {},
   "source": [
    "Note: The gridsearch above was primarily used to test different PolyNomial Features settings with LinearRegression, RidgeCV, and LassoCV.  I did experiment with different settings for alpha, particularly with LassoCV, but found only incremental improvement over the default alpha setting."
   ]
  },
  {
   "cell_type": "code",
   "execution_count": 5,
   "id": "f3172100-6171-47af-b7f7-b1d43cb0b1cf",
   "metadata": {},
   "outputs": [
    {
     "data": {
      "text/plain": [
       "{'poly__degree': 3, 'poly__include_bias': True, 'poly__interaction_only': True}"
      ]
     },
     "execution_count": 5,
     "metadata": {},
     "output_type": "execute_result"
    }
   ],
   "source": [
    "gs.best_params_"
   ]
  },
  {
   "cell_type": "code",
   "execution_count": 6,
   "id": "005a3259-2af6-4040-9113-c5e9e6a87fd0",
   "metadata": {},
   "outputs": [
    {
     "data": {
      "text/plain": [
       "0.8844419552956391"
      ]
     },
     "execution_count": 6,
     "metadata": {},
     "output_type": "execute_result"
    }
   ],
   "source": [
    "gs.best_score_"
   ]
  },
  {
   "cell_type": "code",
   "execution_count": 7,
   "id": "7fa01cc8-9c8d-4a20-93e5-c20736691677",
   "metadata": {},
   "outputs": [
    {
     "data": {
      "text/plain": [
       "0.9215108062218212"
      ]
     },
     "execution_count": 7,
     "metadata": {},
     "output_type": "execute_result"
    }
   ],
   "source": [
    "gs.score(X_train, y_train)"
   ]
  },
  {
   "cell_type": "code",
   "execution_count": 8,
   "id": "2c3764ad-8fdc-4740-880e-faae4e46c4b0",
   "metadata": {},
   "outputs": [
    {
     "data": {
      "text/plain": [
       "0.9071358571869942"
      ]
     },
     "execution_count": 8,
     "metadata": {},
     "output_type": "execute_result"
    }
   ],
   "source": [
    "gs.score(X_test, y_test)"
   ]
  },
  {
   "cell_type": "code",
   "execution_count": 9,
   "id": "c62b2a02-c778-44ab-9f44-870a4067faf1",
   "metadata": {},
   "outputs": [
    {
     "data": {
      "text/plain": [
       "24129.455887745815"
      ]
     },
     "execution_count": 9,
     "metadata": {},
     "output_type": "execute_result"
    }
   ],
   "source": [
    "mean_squared_error(y_test, gs.predict(X_test))**0.5"
   ]
  },
  {
   "cell_type": "markdown",
   "id": "6afba639-3781-4b8b-b9ed-5fc2879b8b27",
   "metadata": {},
   "source": [
    "The above gridsearch was used to test different settings of polynomial features with LinearRegression(), RidgeCV(), and LassoCV().  The difference was not very large between LinearRegression(), RidgeCV(), and LassoCV(), but LassoCV() with poly order 3, include bias True, and interaction only True won out.  However, I experimented manually below, and found that poly order 3 seemed overfit when I tried it on the test split.  I settled on poly order 2 as giving somewhat better and more interpretable results.  All of these differences were small in terms of both R2 score and RMSE."
   ]
  },
  {
   "cell_type": "markdown",
   "id": "24e5f5d9-0a41-4cb6-b73e-2253ac22dc57",
   "metadata": {},
   "source": [
    "#### Model 1: Top Kaggle Score on 20% of Unseen Data ####"
   ]
  },
  {
   "cell_type": "code",
   "execution_count": 10,
   "id": "ed390f41-27f0-40a3-8e7a-2c998124e0cc",
   "metadata": {},
   "outputs": [],
   "source": [
    "def transform_and_fit(df_train, df_test, vec_train):\n",
    "    \n",
    "    \"\"\"\n",
    "    Performs the tranformation and fit on the train data.\n",
    "    Returns the transformed data and fitted regression and polynomial features objects for analysis.\n",
    "    \"\"\"\n",
    "    \n",
    "    sc = StandardScaler()\n",
    "    poly = PolynomialFeatures(degree=3)\n",
    "\n",
    "    df_train_sc = sc.fit_transform(df_train)\n",
    "    df_test_sc = sc.transform(df_test)\n",
    "\n",
    "    df_train_sc_poly = poly.fit_transform(df_train_sc)\n",
    "    df_test_sc_poly = poly.transform(df_test_sc)\n",
    "\n",
    "    lasso = LassoCV(cv=10)\n",
    "    lasso.fit(df_train_sc_poly, vec_train);\n",
    "    \n",
    "    return lasso, poly, df_train_sc_poly, df_test_sc_poly"
   ]
  },
  {
   "cell_type": "code",
   "execution_count": 11,
   "id": "105abf7c-5a00-4a7b-8a57-935eb44f0838",
   "metadata": {},
   "outputs": [],
   "source": [
    "def check_metrics(df_train, df_test, vec_train, vec_test):\n",
    "\n",
    "    \"\"\"\n",
    "    Calls transform_and_fit to obtain transformed data and fitted regression and polynomial features object.\n",
    "    Calculates and prints metrics for analysis.\n",
    "    \"\"\"\n",
    "    \n",
    "    lasso, poly, df_train_sc_poly, df_test_sc_poly = transform_and_fit(df_train, df_test, vec_train)\n",
    "    \n",
    "    print('lasso.alpha_ = ', lasso.alpha_)\n",
    "    print('train score = ', lasso.score(df_train_sc_poly, vec_train))\n",
    "    print('test score = ', lasso.score(df_test_sc_poly, vec_test))\n",
    "    print('RMSE = ', mean_squared_error(vec_test, lasso.predict(df_test_sc_poly))**0.5)\n",
    "    \n",
    "    return lasso, poly, df_train_sc_poly, df_test_sc_poly"
   ]
  },
  {
   "cell_type": "code",
   "execution_count": 12,
   "id": "ac514fac-3e7d-4b7d-a508-bfc6279dd0a0",
   "metadata": {},
   "outputs": [],
   "source": [
    "def prep_submission(df_train, df_test, vec_train):\n",
    "    \n",
    "    \"\"\"\n",
    "    Applies chosen algorithm to the full set of data, train and test, to gain the benefit of the full set of provided data.\n",
    "    Prints R2 and then returns predictions for submission to Kaggle competition.\n",
    "    \"\"\"\n",
    "    \n",
    "    lasso, poly, df_train_sc_poly, df_test_sc_poly = transform_and_fit(df_train, df_test, vec_train)\n",
    "    \n",
    "    print('lasso.alpha_ = ', lasso.alpha_)\n",
    "    print('train score = ', lasso.score(df_train_sc_poly, vec_train))\n",
    "    \n",
    "    return lasso.predict(df_test_sc_poly)"
   ]
  },
  {
   "cell_type": "code",
   "execution_count": 13,
   "id": "c54885a3-2ae0-43e4-a6cd-a982d00c9982",
   "metadata": {},
   "outputs": [
    {
     "name": "stdout",
     "output_type": "stream",
     "text": [
      "lasso.alpha_ =  752.2460876094043\n",
      "train score =  0.9277456785801956\n",
      "test score =  0.9003787535295628\n",
      "RMSE =  24991.91224987597\n"
     ]
    }
   ],
   "source": [
    "lasso_poly3_sc, poly3_sc, poly3_sc_train, poly3_sc_test  = check_metrics(X_train, X_test, y_train, y_test)"
   ]
  },
  {
   "cell_type": "code",
   "execution_count": 14,
   "id": "a8e8b7ff-2b50-43e9-a4fb-e2647c680d61",
   "metadata": {},
   "outputs": [
    {
     "name": "stdout",
     "output_type": "stream",
     "text": [
      "lasso.alpha_ =  1178.127445558155\n",
      "train score =  0.9219067153119538\n"
     ]
    }
   ],
   "source": [
    "unseen['saleprice'] = prep_submission(X, X_unseen, y)\n",
    "unseen[['id', 'saleprice']].to_csv('../datasets/sub18.csv', index=False)"
   ]
  },
  {
   "cell_type": "markdown",
   "id": "4426c225-de08-4ceb-bab7-10856627b415",
   "metadata": {},
   "source": [
    "Model 1 provided my best-scoring submission to Kaggle based on 20% of the unseen data.  It used PolynomialFeatures() with degree 3, and it yielded an RMSE of \\\\$20698.47 on Kaggle.  However, I believe that using PolynomialFeatures() degree 2 and keeping all else the same is actually the better model.  Notice that Polynomial degree 3 is somewhat overfit, with a drop in R2 score of over 2% from train to test and an RMSE of \\\\$24991.91 on my own test data, obtained via train/test/split.  It's worth noting that the unseen data on Kaggle is only 878 rows, and only 20% of that was used to obtain the above score, leaving about 176 rows.  On the other hand, my own test set from train/test/split had 613 rows.  It is true that I was able to remove outliers before train/test/split, and it is possible that higher-order polynomials are better able to account for outliers, causing the better Kaggle score.  However, the usefulness of fitting to outliers is highly situational and would require identifying specific, repeatable, and generalizeable patterns in those outliers.  The outliers I removed were far too few for such analysis."
   ]
  },
  {
   "cell_type": "markdown",
   "id": "22a84e5e-7f97-43ab-9736-8c11d865c03f",
   "metadata": {},
   "source": [
    "#### Model 2: Strong Prediction and a Little Underfit ####"
   ]
  },
  {
   "cell_type": "code",
   "execution_count": 15,
   "id": "cbf68eb2-6178-4ca2-98c0-92d3689a11f5",
   "metadata": {},
   "outputs": [],
   "source": [
    "def transform_and_fit(df_train, df_test, vec_train):\n",
    "    \n",
    "    \"\"\"\n",
    "    Performs the tranformation and fit on the train data.\n",
    "    Returns the transformed data and fitted regression and polynomial features objects for analysis.\n",
    "    \"\"\"\n",
    "    \n",
    "    sc = StandardScaler()\n",
    "    poly = PolynomialFeatures(degree=2)\n",
    "\n",
    "    df_train_sc = sc.fit_transform(df_train)\n",
    "    df_test_sc = sc.transform(df_test)\n",
    "\n",
    "    df_train_sc_poly = poly.fit_transform(df_train_sc)\n",
    "    df_test_sc_poly = poly.transform(df_test_sc)\n",
    "\n",
    "    lasso = LassoCV(cv=10)\n",
    "    lasso.fit(df_train_sc_poly, vec_train);\n",
    "    \n",
    "    return lasso, poly, df_train_sc_poly, df_test_sc_poly"
   ]
  },
  {
   "cell_type": "code",
   "execution_count": 16,
   "id": "229cb810-7ba5-4c75-8c75-ae5e59d072c9",
   "metadata": {},
   "outputs": [
    {
     "name": "stdout",
     "output_type": "stream",
     "text": [
      "lasso.alpha_ =  903.6587664501424\n",
      "train score =  0.903252324928213\n",
      "test score =  0.9193197116308338\n",
      "RMSE =  22490.92009144679\n"
     ]
    }
   ],
   "source": [
    "lasso_poly2_sc, poly2_sc, poly2_sc_train, poly2_sc_test = check_metrics(X_train, X_test, y_train, y_test)"
   ]
  },
  {
   "cell_type": "markdown",
   "id": "9ef7cd2e-837e-4d29-b26b-2ab9ec8d98bd",
   "metadata": {},
   "source": [
    "The only change from Model 1 to Model 2 is that Model 2 has PolynomialFeatures() set at 2, rather than 3.  Notice that Model 2 actually features an increase in RMSE of nearly 2% from train to test, suggesting that it is slighlty underfit and should be quite consistent when applied to new data.  The RMSE on my test split improved to \\\\$22490.92, vs. \\\\$24991.91 for Model 1, even though Model 2 scored worse on the 20% of unseen data in Kaggle."
   ]
  },
  {
   "cell_type": "markdown",
   "id": "14114cf2-4c1f-4ee6-9370-91ef12a753ea",
   "metadata": {},
   "source": [
    "#### Model 3: No Scaling or Regularization ####"
   ]
  },
  {
   "cell_type": "code",
   "execution_count": 17,
   "id": "124f9b85-2356-472c-9a3f-013c3ef43ed3",
   "metadata": {},
   "outputs": [],
   "source": [
    "def transform_and_fit(df_train, df_test, vec_train):\n",
    "    \n",
    "    \"\"\"\n",
    "    Performs the tranformation and fit on the train data.\n",
    "    Returns the transformed data and fitted regression and polynomial features objects for analysis.\n",
    "    \"\"\"\n",
    "    \n",
    "    poly = PolynomialFeatures(degree=2)\n",
    "\n",
    "    df_train_poly = poly.fit_transform(df_train)\n",
    "    df_test_poly = poly.transform(df_test)\n",
    "\n",
    "    linreg = LinearRegression()\n",
    "    linreg.fit(df_train_poly, vec_train);\n",
    "    \n",
    "    return linreg, poly, df_train_poly, df_test_poly"
   ]
  },
  {
   "cell_type": "code",
   "execution_count": 18,
   "id": "4095bf7e-f996-4321-8f3c-317c0d228154",
   "metadata": {},
   "outputs": [],
   "source": [
    "def check_metrics(df_train, df_test, vec_train, vec_test):\n",
    "    \n",
    "    \"\"\"\n",
    "    Calls transform_and_fit to obtain transformed data and fitted regression and polynomial features object.\n",
    "    Calculates and prints metrics for analysis.\n",
    "    \"\"\"\n",
    "    \n",
    "    linreg, poly, df_train_poly, df_test_poly = transform_and_fit(df_train, df_test, vec_train)\n",
    "    \n",
    "    print('train score = ', linreg.score(df_train_poly, vec_train))\n",
    "    print('test score = ', linreg.score(df_test_poly, vec_test))\n",
    "    print('RMSE = ', mean_squared_error(vec_test, linreg.predict(df_test_poly))**0.5)\n",
    "    \n",
    "    return linreg, poly, df_train_poly, df_test_poly"
   ]
  },
  {
   "cell_type": "code",
   "execution_count": 19,
   "id": "3f62ed76-c4e9-441c-86b8-82adca866f60",
   "metadata": {},
   "outputs": [
    {
     "name": "stdout",
     "output_type": "stream",
     "text": [
      "train score =  0.9126536671607142\n",
      "test score =  0.9095116763461353\n",
      "RMSE =  23818.794254445842\n"
     ]
    }
   ],
   "source": [
    "linreg_poly2, poly2, poly2_train, poly2_test = check_metrics(X_train, X_test, y_train, y_test)"
   ]
  },
  {
   "cell_type": "markdown",
   "id": "fdc2df6a-f4d4-489a-b263-451c0b129352",
   "metadata": {},
   "source": [
    "Model 3 removes StandardScaler and Lasso from Model 2 with the intent of improving interpretability.  Removing Lasso also means removing the built-in cross-validation, as the linear regression method used in Model 3 does not apply cross-validation while fitting.  Notice that very little is sacrificed in this process.  Model 3 appears to be slightly overfit, as opposed to the underfit Model 2, and has an RMSE on the test split between that of Model 1 and Model 2.  It appears that the regularization in Model 2 was helpful, but the model was not too badly overfit in the first place, so Model 3 still performs well without regularization.  Since the only difference Models 2 and 3 is StandardScaler and Lasso, they can be compared effectively during analysis."
   ]
  },
  {
   "cell_type": "markdown",
   "id": "d54613a0-0874-4431-80d6-33eb41b3871b",
   "metadata": {},
   "source": [
    "## XIII. Analysis and Conclusions ##"
   ]
  },
  {
   "cell_type": "markdown",
   "id": "6ff9074a-2ad7-4753-a3d3-dc183d79cff5",
   "metadata": {},
   "source": [
    "For the reasons discussed above, I will not include Model 1 in this analysis.  Below, I created a DataFrame of both models that used polynomial features up to order 2.\n",
    "\n",
    "As a reminder, our baseline model was based on the naive prediction that each sale price would be equal to the average sale price.  This assumption is incorporated into R2 as the baseline model by default.  Below, I have shown that the root mean square error that model produces when applied to the test set of my train/test split is about \\\\$79,181.46.\n",
    "\n",
    "For comparison, the root mean square errors of the models I will be discussing are \\\\$22,490.92 (with lasso) and \\\\$23,818.79 (without lasso).  The R2 scores for both models were between 0.90 and 0.92, indicating that they accounted for about 90\\% - 92\\% of the price variability not accounted for by the naive baseline model.  The R2 scores suggest that these models capture the majority of important features.  Improvement beyond this point would be quite difficult, considering that an R2 score of 1 would would require that every sale price be predicted perfectly.  The root mean square errors tell us that a guess based on the naive baseline model will, on average, miss the true price by about three times as much as a guess based on these regression models.\n",
    "\n",
    "Overall, we can say that these models make significant improvements on guessing house price based on the local average price.  Below, I will further investigate specific strengths and shortcomings of the models, as well as what they can tell us about the major factors that influence housing price."
   ]
  },
  {
   "cell_type": "code",
   "execution_count": 20,
   "id": "8ec5b213-0aa0-452d-81bc-e7fa5d4a41ac",
   "metadata": {},
   "outputs": [
    {
     "data": {
      "text/plain": [
       "79181.45933464052"
      ]
     },
     "execution_count": 20,
     "metadata": {},
     "output_type": "execute_result"
    }
   ],
   "source": [
    "# Calculating RMSE using naive model of average home price for the purpose of comparison.\n",
    "\n",
    "naive_model = pd.DataFrame(y_test)\n",
    "naive_model['y_mean'] = y_test.mean()\n",
    "mean_squared_error(naive_model['saleprice'], naive_model['y_mean'])**0.5"
   ]
  },
  {
   "cell_type": "code",
   "execution_count": 21,
   "id": "0c96d466-bc3e-48ed-8b76-bf433d9b44ed",
   "metadata": {},
   "outputs": [
    {
     "data": {
      "image/png": "[encoded data removed]",
      "text/plain": [
       "<Figure size 1440x864 with 4 Axes>"
      ]
     },
     "metadata": {
      "needs_background": "light"
     },
     "output_type": "display_data"
    }
   ],
   "source": [
    "fig, axs = plt.subplots(2, 2, figsize=(20,12), gridspec_kw={'hspace' : .2})\n",
    "\n",
    "axs[0,0].scatter(y_train, (linreg_poly2.predict(poly2_train) - y_train), marker='.')\n",
    "axs[0,0].set_xlabel('Sale Price', fontsize='x-large')\n",
    "axs[0,0].set_ylabel('Prediction Error', fontsize='x-large')\n",
    "axs[0,0].set_title('Train Data, No Lasso', fontsize='x-large')\n",
    "axs[0,0].set_ylim(-200_000, 175_000)\n",
    "axs[0,0].axhline(y=0, color='orange')\n",
    "\n",
    "axs[1,0].scatter(y_test, (linreg_poly2.predict(poly2_test) - y_test), marker='.')\n",
    "axs[1,0].set_xlabel('Sale Price', fontsize='x-large')\n",
    "axs[1,0].set_ylabel('Prediction Error', fontsize='x-large')\n",
    "axs[1,0].set_title('Test Data, No Lasso', fontsize='x-large')\n",
    "axs[1,0].set_ylim(-200_000, 175_000)\n",
    "axs[1,0].axhline(y=0, color='orange')\n",
    "\n",
    "axs[0,1].scatter(y_train, (lasso_poly2_sc.predict(poly2_sc_train) - y_train), marker='.')\n",
    "axs[0,1].set_xlabel('Sale Price', fontsize='x-large')\n",
    "axs[0,1].set_ylabel('Prediction Error', fontsize='x-large')\n",
    "axs[0,1].set_title('Train Data, Lasso', fontsize='xx-large')\n",
    "axs[0,1].set_ylim(-200_000, 175_000)\n",
    "axs[0,1].axhline(y=0, color='orange')\n",
    "\n",
    "axs[1,1].scatter(y_test, (lasso_poly2_sc.predict(poly2_sc_test) - y_test), marker='.')\n",
    "axs[1,1].set_xlabel('Sale Price', fontsize='x-large')\n",
    "axs[1,1].set_ylabel('Prediction Error', fontsize='x-large')\n",
    "axs[1,1].set_title('Test Data, Lasso', fontsize='xx-large')\n",
    "axs[1,1].set_ylim(-200_000, 175_000)\n",
    "axs[1,1].axhline(y=0, color='orange');"
   ]
  },
  {
   "cell_type": "markdown",
   "id": "a329a82d-650d-4247-9111-298a898371c7",
   "metadata": {},
   "source": [
    "The above are residual plots of each model's performance on both the training data and the testing data from train/test split.\n",
    "\n",
    "The models had very similar distributions of residuals.  They tended to overestimate low prices and underestimate high prices.  It's interesting that neither model was able to correct for that pattern.  This is likely because the low and high values represented a small portion of the sales.  Residuals for the main cluster of sales between \\\\$100,000 and \\\\$200,000 look very symmetrical.  Inclusion of more specialized features may improve the ability of the model to capture the features at very high or low prices.\n",
    "\n",
    "Residual distribution on train and test was quite similar for both models.  Along with the similar R2 scores between train and test data, this suggests little or no systematic error generalizing to new data.  These models should perform quite well on new data, within the limitation of how well the Ames Housing data can be generalized to other housing markets.  This question would require analysis of a broader dataset, but it will be discussed below when considering important features in the models."
   ]
  },
  {
   "cell_type": "code",
   "execution_count": 22,
   "id": "0359ff05-ef07-4caa-8352-99418ff560b9",
   "metadata": {},
   "outputs": [],
   "source": [
    "# Save coefficients from chosen models in a DataFrame along with feature names for each coeffiencient.\n",
    "\n",
    "fit_coefs = pd.DataFrame(zip(poly2.get_feature_names(X.columns), linreg_poly2.coef_, lasso_poly2_sc.coef_),\n",
    "             columns=['Feature', 'Linreg_coef', 'Lasso_poly2_coef'])"
   ]
  },
  {
   "cell_type": "code",
   "execution_count": 23,
   "id": "b223a1df-035e-43c7-ad96-b21603bb9d5f",
   "metadata": {},
   "outputs": [],
   "source": [
    "# Sort DataFrame by coefficient size for each of the two fits and reset index to that the DataFrames with each ordering can be merged.\n",
    "\n",
    "fit_coefs_bylin = fit_coefs.sort_values(by='Linreg_coef', ascending=False)\n",
    "fit_coefs_bylin.reset_index(drop=True, inplace=True)\n",
    "fit_coefs_bylasso = fit_coefs.sort_values(by='Lasso_poly2_coef', ascending=False)\n",
    "fit_coefs_bylasso.reset_index(drop=True, inplace=True)"
   ]
  },
  {
   "cell_type": "code",
   "execution_count": 24,
   "id": "6d764369-c58c-4c61-b58a-9d90a26bc515",
   "metadata": {},
   "outputs": [],
   "source": [
    "# Rename columns to clarify that each set of columns has the same information but has been sorted differently.\n",
    "\n",
    "fit_coefs_bylin.rename(mapper={\n",
    "    'Feature' : 'Feature_bylin',\n",
    "    'Linreg_coef' : 'Linreg_coef_bylin',\n",
    "    'Lasso_poly2_coef' : 'Lasso_poly2_coef_bylin'}, axis=1, inplace=True)\n",
    "\n",
    "fit_coefs_bylasso.rename(mapper={\n",
    "    'Feature' : 'Feature_bylasso',\n",
    "    'Linreg_coef' : 'Linreg_coef_bylasso',\n",
    "    'Lasso_poly2_coef' : 'Lasso_poly2_coef_bylasso'}, axis=1, inplace=True)"
   ]
  },
  {
   "cell_type": "code",
   "execution_count": 25,
   "id": "692e1f04-053f-4c84-94f0-82721e94499a",
   "metadata": {},
   "outputs": [],
   "source": [
    "# Combine the two sorted DataFrames into one for side-by-side comparion of the top features according to each model.\n",
    "\n",
    "fit_compare_coef = pd.concat([fit_coefs_bylin, fit_coefs_bylasso], axis=1)"
   ]
  },
  {
   "cell_type": "code",
   "execution_count": 26,
   "id": "a79cb261-5738-4209-9a5b-3df6a96b5630",
   "metadata": {},
   "outputs": [
    {
     "data": {
      "text/html": [
       "<div>\n",
       "<style scoped>\n",
       "    .dataframe tbody tr th:only-of-type {\n",
       "        vertical-align: middle;\n",
       "    }\n",
       "\n",
       "    .dataframe tbody tr th {\n",
       "        vertical-align: top;\n",
       "    }\n",
       "\n",
       "    .dataframe thead th {\n",
       "        text-align: right;\n",
       "    }\n",
       "</style>\n",
       "<table border=\"1\" class=\"dataframe\">\n",
       "  <thead>\n",
       "    <tr style=\"text-align: right;\">\n",
       "      <th></th>\n",
       "      <th>Feature_bylin</th>\n",
       "      <th>Linreg_coef_bylin</th>\n",
       "      <th>Lasso_poly2_coef_bylin</th>\n",
       "      <th>Feature_bylasso</th>\n",
       "      <th>Linreg_coef_bylasso</th>\n",
       "      <th>Lasso_poly2_coef_bylasso</th>\n",
       "    </tr>\n",
       "  </thead>\n",
       "  <tbody>\n",
       "    <tr>\n",
       "      <th>0</th>\n",
       "      <td>neighborhood</td>\n",
       "      <td>27755.134086</td>\n",
       "      <td>5051.378575</td>\n",
       "      <td>overall_qual</td>\n",
       "      <td>-3860.534910</td>\n",
       "      <td>23650.474291</td>\n",
       "    </tr>\n",
       "    <tr>\n",
       "      <th>1</th>\n",
       "      <td>heating_qc</td>\n",
       "      <td>16270.958938</td>\n",
       "      <td>3066.887886</td>\n",
       "      <td>gr_liv_area</td>\n",
       "      <td>-6.760608</td>\n",
       "      <td>19271.633275</td>\n",
       "    </tr>\n",
       "    <tr>\n",
       "      <th>2</th>\n",
       "      <td>half_bath</td>\n",
       "      <td>12479.689960</td>\n",
       "      <td>0.000000</td>\n",
       "      <td>year_built</td>\n",
       "      <td>-133.934458</td>\n",
       "      <td>9804.052624</td>\n",
       "    </tr>\n",
       "    <tr>\n",
       "      <th>3</th>\n",
       "      <td>half_bath neighborhood</td>\n",
       "      <td>11312.841177</td>\n",
       "      <td>1201.541941</td>\n",
       "      <td>garage_total</td>\n",
       "      <td>-0.444776</td>\n",
       "      <td>8686.060400</td>\n",
       "    </tr>\n",
       "    <tr>\n",
       "      <th>4</th>\n",
       "      <td>neighborhood overall_qual</td>\n",
       "      <td>3449.533656</td>\n",
       "      <td>0.000000</td>\n",
       "      <td>lot_area</td>\n",
       "      <td>-5.124621</td>\n",
       "      <td>8497.107342</td>\n",
       "    </tr>\n",
       "    <tr>\n",
       "      <th>5</th>\n",
       "      <td>overall_qual fireplace_qu</td>\n",
       "      <td>1238.686835</td>\n",
       "      <td>1121.298301</td>\n",
       "      <td>bsmt_total</td>\n",
       "      <td>-12.725194</td>\n",
       "      <td>7861.070075</td>\n",
       "    </tr>\n",
       "    <tr>\n",
       "      <th>6</th>\n",
       "      <td>half_bath heating_qc</td>\n",
       "      <td>763.569692</td>\n",
       "      <td>-0.000000</td>\n",
       "      <td>fireplace_qu</td>\n",
       "      <td>-12541.230952</td>\n",
       "      <td>5885.083504</td>\n",
       "    </tr>\n",
       "    <tr>\n",
       "      <th>7</th>\n",
       "      <td>neighborhood fireplace_qu</td>\n",
       "      <td>669.642101</td>\n",
       "      <td>0.000000</td>\n",
       "      <td>neighborhood</td>\n",
       "      <td>27755.134086</td>\n",
       "      <td>5051.378575</td>\n",
       "    </tr>\n",
       "    <tr>\n",
       "      <th>8</th>\n",
       "      <td>overall_qual^2</td>\n",
       "      <td>471.801030</td>\n",
       "      <td>0.000000</td>\n",
       "      <td>overall_qual garage_total</td>\n",
       "      <td>0.056068</td>\n",
       "      <td>3775.213957</td>\n",
       "    </tr>\n",
       "    <tr>\n",
       "      <th>9</th>\n",
       "      <td>neighborhood year_built</td>\n",
       "      <td>345.152210</td>\n",
       "      <td>0.000000</td>\n",
       "      <td>porch_space</td>\n",
       "      <td>6.275120</td>\n",
       "      <td>3722.538448</td>\n",
       "    </tr>\n",
       "    <tr>\n",
       "      <th>10</th>\n",
       "      <td>fireplace_qu heating_qc</td>\n",
       "      <td>56.846910</td>\n",
       "      <td>-0.000000</td>\n",
       "      <td>gr_liv_area overall_qual</td>\n",
       "      <td>2.313018</td>\n",
       "      <td>3207.761939</td>\n",
       "    </tr>\n",
       "    <tr>\n",
       "      <th>11</th>\n",
       "      <td>neighborhood mas_vnr_area</td>\n",
       "      <td>29.558567</td>\n",
       "      <td>2077.980544</td>\n",
       "      <td>overall_qual bsmt_total</td>\n",
       "      <td>3.460847</td>\n",
       "      <td>3106.864553</td>\n",
       "    </tr>\n",
       "    <tr>\n",
       "      <th>12</th>\n",
       "      <td>half_bath mas_vnr_area</td>\n",
       "      <td>17.756036</td>\n",
       "      <td>-0.000000</td>\n",
       "      <td>heating_qc</td>\n",
       "      <td>16270.958938</td>\n",
       "      <td>3066.887886</td>\n",
       "    </tr>\n",
       "    <tr>\n",
       "      <th>13</th>\n",
       "      <td>neighborhood porch_space</td>\n",
       "      <td>8.340387</td>\n",
       "      <td>0.000000</td>\n",
       "      <td>gr_liv_area fireplace_qu</td>\n",
       "      <td>4.467624</td>\n",
       "      <td>2361.737362</td>\n",
       "    </tr>\n",
       "    <tr>\n",
       "      <th>14</th>\n",
       "      <td>fireplace_qu year_built</td>\n",
       "      <td>7.353614</td>\n",
       "      <td>-0.000000</td>\n",
       "      <td>neighborhood mas_vnr_area</td>\n",
       "      <td>29.558567</td>\n",
       "      <td>2077.980544</td>\n",
       "    </tr>\n",
       "    <tr>\n",
       "      <th>15</th>\n",
       "      <td>porch_space</td>\n",
       "      <td>6.275120</td>\n",
       "      <td>3722.538448</td>\n",
       "      <td>lot_area neighborhood</td>\n",
       "      <td>2.917074</td>\n",
       "      <td>1977.606436</td>\n",
       "    </tr>\n",
       "    <tr>\n",
       "      <th>16</th>\n",
       "      <td>heating_qc mas_vnr_area</td>\n",
       "      <td>5.013171</td>\n",
       "      <td>0.000000</td>\n",
       "      <td>year_built bsmt_total</td>\n",
       "      <td>0.266517</td>\n",
       "      <td>1778.762337</td>\n",
       "    </tr>\n",
       "    <tr>\n",
       "      <th>17</th>\n",
       "      <td>gr_liv_area fireplace_qu</td>\n",
       "      <td>4.467624</td>\n",
       "      <td>2361.737362</td>\n",
       "      <td>year_built garage_total</td>\n",
       "      <td>0.006277</td>\n",
       "      <td>1761.045524</td>\n",
       "    </tr>\n",
       "    <tr>\n",
       "      <th>18</th>\n",
       "      <td>gr_liv_area neighborhood</td>\n",
       "      <td>3.719358</td>\n",
       "      <td>1102.798864</td>\n",
       "      <td>half_bath neighborhood</td>\n",
       "      <td>11312.841177</td>\n",
       "      <td>1201.541941</td>\n",
       "    </tr>\n",
       "    <tr>\n",
       "      <th>19</th>\n",
       "      <td>gr_liv_area heating_qc</td>\n",
       "      <td>3.703047</td>\n",
       "      <td>543.310450</td>\n",
       "      <td>overall_qual fireplace_qu</td>\n",
       "      <td>1238.686835</td>\n",
       "      <td>1121.298301</td>\n",
       "    </tr>\n",
       "  </tbody>\n",
       "</table>\n",
       "</div>"
      ],
      "text/plain": [
       "                Feature_bylin  Linreg_coef_bylin  Lasso_poly2_coef_bylin  \\\n",
       "0                neighborhood       27755.134086             5051.378575   \n",
       "1                  heating_qc       16270.958938             3066.887886   \n",
       "2                   half_bath       12479.689960                0.000000   \n",
       "3      half_bath neighborhood       11312.841177             1201.541941   \n",
       "4   neighborhood overall_qual        3449.533656                0.000000   \n",
       "5   overall_qual fireplace_qu        1238.686835             1121.298301   \n",
       "6        half_bath heating_qc         763.569692               -0.000000   \n",
       "7   neighborhood fireplace_qu         669.642101                0.000000   \n",
       "8              overall_qual^2         471.801030                0.000000   \n",
       "9     neighborhood year_built         345.152210                0.000000   \n",
       "10    fireplace_qu heating_qc          56.846910               -0.000000   \n",
       "11  neighborhood mas_vnr_area          29.558567             2077.980544   \n",
       "12     half_bath mas_vnr_area          17.756036               -0.000000   \n",
       "13   neighborhood porch_space           8.340387                0.000000   \n",
       "14    fireplace_qu year_built           7.353614               -0.000000   \n",
       "15                porch_space           6.275120             3722.538448   \n",
       "16    heating_qc mas_vnr_area           5.013171                0.000000   \n",
       "17   gr_liv_area fireplace_qu           4.467624             2361.737362   \n",
       "18   gr_liv_area neighborhood           3.719358             1102.798864   \n",
       "19     gr_liv_area heating_qc           3.703047              543.310450   \n",
       "\n",
       "              Feature_bylasso  Linreg_coef_bylasso  Lasso_poly2_coef_bylasso  \n",
       "0                overall_qual         -3860.534910              23650.474291  \n",
       "1                 gr_liv_area            -6.760608              19271.633275  \n",
       "2                  year_built          -133.934458               9804.052624  \n",
       "3                garage_total            -0.444776               8686.060400  \n",
       "4                    lot_area            -5.124621               8497.107342  \n",
       "5                  bsmt_total           -12.725194               7861.070075  \n",
       "6                fireplace_qu        -12541.230952               5885.083504  \n",
       "7                neighborhood         27755.134086               5051.378575  \n",
       "8   overall_qual garage_total             0.056068               3775.213957  \n",
       "9                 porch_space             6.275120               3722.538448  \n",
       "10   gr_liv_area overall_qual             2.313018               3207.761939  \n",
       "11    overall_qual bsmt_total             3.460847               3106.864553  \n",
       "12                 heating_qc         16270.958938               3066.887886  \n",
       "13   gr_liv_area fireplace_qu             4.467624               2361.737362  \n",
       "14  neighborhood mas_vnr_area            29.558567               2077.980544  \n",
       "15      lot_area neighborhood             2.917074               1977.606436  \n",
       "16      year_built bsmt_total             0.266517               1778.762337  \n",
       "17    year_built garage_total             0.006277               1761.045524  \n",
       "18     half_bath neighborhood         11312.841177               1201.541941  \n",
       "19  overall_qual fireplace_qu          1238.686835               1121.298301  "
      ]
     },
     "execution_count": 26,
     "metadata": {},
     "output_type": "execute_result"
    }
   ],
   "source": [
    "fit_compare_coef.head(20)"
   ]
  },
  {
   "cell_type": "code",
   "execution_count": 27,
   "id": "9e1c6cd9-a531-4750-89c0-569e99b2be17",
   "metadata": {},
   "outputs": [
    {
     "data": {
      "text/html": [
       "<div>\n",
       "<style scoped>\n",
       "    .dataframe tbody tr th:only-of-type {\n",
       "        vertical-align: middle;\n",
       "    }\n",
       "\n",
       "    .dataframe tbody tr th {\n",
       "        vertical-align: top;\n",
       "    }\n",
       "\n",
       "    .dataframe thead th {\n",
       "        text-align: right;\n",
       "    }\n",
       "</style>\n",
       "<table border=\"1\" class=\"dataframe\">\n",
       "  <thead>\n",
       "    <tr style=\"text-align: right;\">\n",
       "      <th></th>\n",
       "      <th>Feature_bylin</th>\n",
       "      <th>Linreg_coef_bylin</th>\n",
       "      <th>Lasso_poly2_coef_bylin</th>\n",
       "      <th>Feature_bylasso</th>\n",
       "      <th>Linreg_coef_bylasso</th>\n",
       "      <th>Lasso_poly2_coef_bylasso</th>\n",
       "    </tr>\n",
       "  </thead>\n",
       "  <tbody>\n",
       "    <tr>\n",
       "      <th>90</th>\n",
       "      <td>neighborhood^2</td>\n",
       "      <td>-18521.503973</td>\n",
       "      <td>-599.448747</td>\n",
       "      <td>half_bath year_built</td>\n",
       "      <td>-198.433072</td>\n",
       "      <td>-1593.045971</td>\n",
       "    </tr>\n",
       "    <tr>\n",
       "      <th>89</th>\n",
       "      <td>half_bath^2</td>\n",
       "      <td>-12725.679616</td>\n",
       "      <td>-1546.340732</td>\n",
       "      <td>half_bath^2</td>\n",
       "      <td>-12725.679616</td>\n",
       "      <td>-1546.340732</td>\n",
       "    </tr>\n",
       "    <tr>\n",
       "      <th>88</th>\n",
       "      <td>fireplace_qu</td>\n",
       "      <td>-12541.230952</td>\n",
       "      <td>5885.083504</td>\n",
       "      <td>heating_qc year_built</td>\n",
       "      <td>-101.862923</td>\n",
       "      <td>-855.044819</td>\n",
       "    </tr>\n",
       "    <tr>\n",
       "      <th>87</th>\n",
       "      <td>neighborhood heating_qc</td>\n",
       "      <td>-4965.543493</td>\n",
       "      <td>-208.767938</td>\n",
       "      <td>lot_area mas_vnr_area</td>\n",
       "      <td>-0.003087</td>\n",
       "      <td>-787.439426</td>\n",
       "    </tr>\n",
       "    <tr>\n",
       "      <th>86</th>\n",
       "      <td>overall_qual</td>\n",
       "      <td>-3860.534910</td>\n",
       "      <td>23650.474291</td>\n",
       "      <td>neighborhood^2</td>\n",
       "      <td>-18521.503973</td>\n",
       "      <td>-599.448747</td>\n",
       "    </tr>\n",
       "    <tr>\n",
       "      <th>85</th>\n",
       "      <td>half_bath fireplace_qu</td>\n",
       "      <td>-1650.965444</td>\n",
       "      <td>-34.680590</td>\n",
       "      <td>lot_area^2</td>\n",
       "      <td>-0.000023</td>\n",
       "      <td>-238.098767</td>\n",
       "    </tr>\n",
       "    <tr>\n",
       "      <th>84</th>\n",
       "      <td>overall_qual heating_qc</td>\n",
       "      <td>-846.649369</td>\n",
       "      <td>-0.000000</td>\n",
       "      <td>garage_total bsmt_total</td>\n",
       "      <td>-0.000208</td>\n",
       "      <td>-214.669358</td>\n",
       "    </tr>\n",
       "    <tr>\n",
       "      <th>83</th>\n",
       "      <td>half_bath year_built</td>\n",
       "      <td>-198.433072</td>\n",
       "      <td>-1593.045971</td>\n",
       "      <td>neighborhood heating_qc</td>\n",
       "      <td>-4965.543493</td>\n",
       "      <td>-208.767938</td>\n",
       "    </tr>\n",
       "    <tr>\n",
       "      <th>82</th>\n",
       "      <td>year_built</td>\n",
       "      <td>-133.934458</td>\n",
       "      <td>9804.052624</td>\n",
       "      <td>porch_space^2</td>\n",
       "      <td>-0.038417</td>\n",
       "      <td>-185.489918</td>\n",
       "    </tr>\n",
       "    <tr>\n",
       "      <th>81</th>\n",
       "      <td>half_bath overall_qual</td>\n",
       "      <td>-124.220903</td>\n",
       "      <td>-0.000000</td>\n",
       "      <td>heating_qc^2</td>\n",
       "      <td>-1.625848</td>\n",
       "      <td>-93.033268</td>\n",
       "    </tr>\n",
       "  </tbody>\n",
       "</table>\n",
       "</div>"
      ],
      "text/plain": [
       "              Feature_bylin  Linreg_coef_bylin  Lasso_poly2_coef_bylin  \\\n",
       "90           neighborhood^2      -18521.503973             -599.448747   \n",
       "89              half_bath^2      -12725.679616            -1546.340732   \n",
       "88             fireplace_qu      -12541.230952             5885.083504   \n",
       "87  neighborhood heating_qc       -4965.543493             -208.767938   \n",
       "86             overall_qual       -3860.534910            23650.474291   \n",
       "85   half_bath fireplace_qu       -1650.965444              -34.680590   \n",
       "84  overall_qual heating_qc        -846.649369               -0.000000   \n",
       "83     half_bath year_built        -198.433072            -1593.045971   \n",
       "82               year_built        -133.934458             9804.052624   \n",
       "81   half_bath overall_qual        -124.220903               -0.000000   \n",
       "\n",
       "            Feature_bylasso  Linreg_coef_bylasso  Lasso_poly2_coef_bylasso  \n",
       "90     half_bath year_built          -198.433072              -1593.045971  \n",
       "89              half_bath^2        -12725.679616              -1546.340732  \n",
       "88    heating_qc year_built          -101.862923               -855.044819  \n",
       "87    lot_area mas_vnr_area            -0.003087               -787.439426  \n",
       "86           neighborhood^2        -18521.503973               -599.448747  \n",
       "85               lot_area^2            -0.000023               -238.098767  \n",
       "84  garage_total bsmt_total            -0.000208               -214.669358  \n",
       "83  neighborhood heating_qc         -4965.543493               -208.767938  \n",
       "82            porch_space^2            -0.038417               -185.489918  \n",
       "81             heating_qc^2            -1.625848                -93.033268  "
      ]
     },
     "execution_count": 27,
     "metadata": {},
     "output_type": "execute_result"
    }
   ],
   "source": [
    "fit_compare_coef.tail(10)[::-1]"
   ]
  },
  {
   "cell_type": "code",
   "execution_count": 28,
   "id": "9a65b734-d442-4a0f-8387-2dce50a8188d",
   "metadata": {},
   "outputs": [
    {
     "data": {
      "text/plain": [
       "Index(['saleprice', 'id', 'half_bath', 'gr_liv_area', 'lot_area',\n",
       "       'neighborhood', 'overall_qual', 'fireplace_qu', 'heating_qc',\n",
       "       'mas_vnr_area', 'year_built', 'porch_space', 'garage_total',\n",
       "       'bsmt_total'],\n",
       "      dtype='object')"
      ]
     },
     "execution_count": 28,
     "metadata": {},
     "output_type": "execute_result"
    }
   ],
   "source": [
    "train.columns"
   ]
  },
  {
   "cell_type": "markdown",
   "id": "e75967b0-912a-48c7-a6fd-978d6316631e",
   "metadata": {},
   "source": [
    "The left 3 columns show the features with the greatest positive and negative impact on price according to linear regression, and the right 3 columns show the same information according to lasso.  Directly comparing the coefficients obtained with and without lasso isn't very helpful here, since the features were scaled for lasso.  However, we can get a sense of how the most impactful positive and negative features differed between models.\n",
    "\n",
    "Keep in mind that other features highly correlated with these features were not included in the model, so our conclusions must be more general.  For example, the non-regularized model suggests that a half-bathroom adds approximately \\\\$12,480 to the value of a house, assuming all else remains the same.  However, this interpretation relies on the assumption that all features are independent.  Half-bathrooms had relatively low correlation with other features, included in these model, but the correlation still exists.  Even features not included in this model that have some correlation with half-bathrroms are represented to some extent in this model.  Therefore, such numerical predications must be taken as estimates with unknown error.\n",
    "\n",
    "Where these models may be most useful is in establishing a hierarchy of feature importance.  Features with large coefficients are those found by the algorithm to be most useful in predicting saleprice.  However, we find that the models with and without lasso reached very different conclusions about feature importance.  The degree of this difference is striking, considering how similar the residual plots were.  It appears that, in aggregregate, the models made very similar predictions through very different means.\n",
    "\n",
    "In comparing the feature priority of each model, we find some compelling evidence that lasso regression actually provides the better predictions for the following reasons:\n",
    "- Lasso was much more likely to favor independent features over feature interactions and higher order terms.  Of the twelve features included in these models, ten were in the top twenty most impactful, including the entire top eight.  This is much more convenient for interpretation, but it also makes sense.  I intentionally chose features with minimal correlation for the model, so interactions should be minimal.  Also, most of the scatterplots I showed in EDA appeared highly linear, with curvature only apparent in a few, and usually minor, suggesting that second order terms should be largely unnecessary in the model.\n",
    "- The highest weighted features for lasso agree with those shown to correspond most strongly with saleprice in the heatmaps in Parts 2 and 3.  Overall quality was the most strongly correlated featue with saleprice according the heatmap, and it is also the feature most favored by lasso regression.  This relationship is much weaker or non-existent for the model without lasso.  Of particular interest is that overall quality actually worked against sale price significantly in the non-lasso model, but overall quality squared increase saleprice.  This implies that overall quality only helps at higher values, but this doesn't match well with the scatterplot in Part 2.\n",
    "- The highest weighted features for lasso agree with experience and make intuitive sense.  The top features according to lasso include overall quality, size, age, and garage size/age, with quality and size significantly above the rest.  This fits in very nicely with out expectations.  Without Lasso, none of these features were at the top.  Neighborhood, heating quality and half-bath were the top three, and although these factors matter, we would be surprised to learn that they matter more than quality and size.\n",
    "\n",
    "Overall, it seems that, without lasso, the best features got a bit lost in the noise.  Regularization by lasso allowed the model to focus in on important features and eliminate less important features and interactions.  A model without lasso or polynomial features may fare better, but such models fell well short of the predictive power of the two models discussed here, calling their usefulness for interpretation into question."
   ]
  },
  {
   "cell_type": "markdown",
   "id": "73d8a1e0-0b83-411d-9a04-ab52cbe2228e",
   "metadata": {},
   "source": [
    "#### Recommendations ####"
   ]
  },
  {
   "cell_type": "markdown",
   "id": "0cc66dee-f91f-44fe-82f7-6a148b5b2883",
   "metadata": {},
   "source": [
    "Based on the analysis above, the strongest recommendation I can make for stakeholders looking to increase home value is to focus on the types of features selected for in the lasso model.  Overall quality is too broad to be very useful, but second most important is clearly size.  Garage total is a combination of size and age.  Other top features are basement total, which included basement's size, and also full bathrooms, serving as an indication of the level of finish in the basement.  Fireplace quality also scored highly.  In conclustion, I suggest that the most impactful features on the value of a house are the size of the finished area (including garage, basement, and porch space), age, and the quality of comforts such as fireplace and heating.  In this model, garage space and basement space were more valuable that porch space, and quality of fireplace was much more important than heating.\n",
    "\n",
    "Finally, it's useful to consider how well the conclusions drawn from this data set can be generalized to other markets, since all of these sales are from the same town.  It's impossible to provide a rigorous answer without data on other markets, which could be an interesting new avenue of investigation into this topic.  However, we can use our everyday experience to infer which features might be of greater or lesser value in a different housing market.\n",
    "\n",
    "The basic features of quality, size, and age are likely quite constant and generalizable, at least within the same country.  The specific values will change (coefficeint sizes will be different) depending on other factors.  For example, an expensive city like San Francisco will have high coefficients for nearly every feature.  However, we can likely expect quality, size, and age to remain near the top.  The relationship between neighborhoods is more complex, but most housing markets will have some neighborhoods that are more desireable than others.  Fireplace and heating are probably going to lose value in markets with warmer weather than Iowa, and possible gain value in markets with even colder weather.  Fireplaces may be somewhat more consistent than heating because of their aesthetic value.\n",
    "\n",
    "Overall, although some features of this model are likely specific to Ames, IA or towns like Ames, many general conclusions can be drawn.  If you want to increase the value of your home, consider adding more living space, perhaps in an existing basement.  You can't do much about age, but you can make sure the home is modernized and that utilities like heating are high quality.  Finally, consider a fireplace."
   ]
  }
 ],
 "metadata": {
  "kernelspec": {
   "display_name": "Python 3 (ipykernel)",
   "language": "python",
   "name": "python3"
  },
  "language_info": {
   "codemirror_mode": {
    "name": "ipython",
    "version": 3
   },
   "file_extension": ".py",
   "mimetype": "text/x-python",
   "name": "python",
   "nbconvert_exporter": "python",
   "pygments_lexer": "ipython3",
   "version": "3.8.12"
  }
 },
 "nbformat": 4,
 "nbformat_minor": 5
}
